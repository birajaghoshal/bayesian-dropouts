{
 "cells": [
  {
   "cell_type": "code",
   "execution_count": 2,
   "metadata": {},
   "outputs": [
    {
     "name": "stderr",
     "output_type": "stream",
     "text": [
      "Using TensorFlow backend.\n"
     ]
    }
   ],
   "source": [
    "import keras\n",
    "from keras.models import Sequential\n",
    "from keras.layers import Dense, Activation, Dropout\n",
    "from keras.datasets import mnist\n",
    "from keras.optimizers import RMSprop\n",
    "from keras import regularizers\n",
    "import numpy as np\n",
    "import matplotlib.pyplot as plt\n",
    "\n",
    "from lib_classifNN import *\n",
    "from lib_visu_classif import *\n",
    "\n",
    "from tqdm import tqdm\n",
    "\"\"\"In this file, we create a neural network with one hidden layer and apply it to the not_mnist dataset in order to address the classification problem and computing uncertainty as developped in  Y. Gal and Z. Ghahramani, “Dropout as a Bayesian Approximation: Representing Model Uncertainty in Deep Learning,” Apr. 2016.\n",
    "\"\"\"\n",
    "\n",
    "path = 'data/notmnist_train.npy'"
   ]
  },
  {
   "cell_type": "code",
   "execution_count": 3,
   "metadata": {},
   "outputs": [],
   "source": [
    "#loading data\n",
    "data = np.load(path)\n",
    "#dictionnary to swap between numerical label and letter\n",
    "letter2label = dict(zip(['A', 'B', 'C', 'D', 'E', 'F', 'G', 'H', 'I', 'J'], np.arange(10)))\n",
    "label2letter = dict(zip(np.arange(10), ['A', 'B', 'C', 'D', 'E', 'F', 'G', 'H', 'I', 'J']))"
   ]
  },
  {
   "cell_type": "code",
   "execution_count": 4,
   "metadata": {},
   "outputs": [],
   "source": [
    "# separing to test and train datasets\n",
    "sep = 80000\n",
    "x_train = data.tolist()[\"x_train\"][:sep]\n",
    "x_test = data.tolist()[\"x_train\"][sep:]\n",
    "\n",
    "y_train = data.tolist()[\"y_train\"][:sep]\n",
    "y_test = data.tolist()[\"y_train\"][sep:]\n"
   ]
  },
  {
   "cell_type": "code",
   "execution_count": 5,
   "metadata": {},
   "outputs": [
    {
     "name": "stdout",
     "output_type": "stream",
     "text": [
      "80000 train samples\n",
      "20000 test samples\n",
      "----------Data loaded and preprocessed----------\n"
     ]
    }
   ],
   "source": [
    "x_train = x_train.astype('float32')\n",
    "x_test = x_test.astype('float32')\n",
    "x_train /= 255\n",
    "x_test /= 255\n",
    "print(x_train.shape[0], 'train samples')\n",
    "print(x_test.shape[0], 'test samples')\n",
    "\n",
    "# network parameters\n",
    "batch_size = 128\n",
    "num_classes = 10\n",
    "epochs = 20\n",
    "\n",
    "# dimensions for the NN:\n",
    "# input dimension\n",
    "Q = x_train.shape[1]\n",
    "# hidden layer dimension\n",
    "K = 100\n",
    "# output dimension : classification\n",
    "D = num_classes\n",
    "\n",
    "# dropout rate\n",
    "DROP_OUT = 0.5\n",
    "N = x_train.shape[0]\n",
    "# l2 regularization\n",
    "#prior length scale\n",
    "l = 1e-2\n",
    "# precision parameter\n",
    "tau = 1e-1\n",
    "\n",
    "lambd = DROP_OUT*l**2/(2*N)\n",
    "\n",
    "# convert class vectors to binary class matrices\n",
    "y_train = keras.utils.to_categorical(y_train, num_classes)\n",
    "y_test = keras.utils.to_categorical(y_test, num_classes)\n",
    "print(\"----------Data loaded and preprocessed----------\")"
   ]
  },
  {
   "cell_type": "code",
   "execution_count": 6,
   "metadata": {},
   "outputs": [
    {
     "name": "stdout",
     "output_type": "stream",
     "text": [
      "_________________________________________________________________\n",
      "Layer (type)                 Output Shape              Param #   \n",
      "=================================================================\n",
      "dense_1 (Dense)              (None, 100)               78500     \n",
      "_________________________________________________________________\n",
      "dropout_1 (Dropout)          (None, 100)               0         \n",
      "_________________________________________________________________\n",
      "dense_2 (Dense)              (None, 10)                1000      \n",
      "_________________________________________________________________\n",
      "dropout_2 (Dropout)          (None, 10)                0         \n",
      "_________________________________________________________________\n",
      "activation_1 (Activation)    (None, 10)                0         \n",
      "=================================================================\n",
      "Total params: 79,500\n",
      "Trainable params: 79,500\n",
      "Non-trainable params: 0\n",
      "_________________________________________________________________\n",
      "----------Model built---------\n"
     ]
    }
   ],
   "source": [
    "# Create the neural network model and train it\n",
    "model = Sequential()\n",
    "model.add(Dense(K, input_shape = (Q, ), activation = 'relu', use_bias= True, kernel_regularizer = regularizers.l2(lambd), bias_regularizer = regularizers.l2(lambd)))\n",
    "model.add(Dropout(DROP_OUT))\n",
    "# softmax layer\n",
    "model.add(Dense(num_classes, use_bias = False, activation = None, kernel_regularizer = regularizers.l2(lambd)))\n",
    "model.add(Dropout(DROP_OUT))\n",
    "model.add(Activation('softmax'))\n",
    "\n",
    "model.summary()\n",
    "model.compile(loss='categorical_crossentropy',\n",
    "              optimizer=RMSprop(),\n",
    "              metrics=['accuracy'])\n",
    "\n",
    "print(\"----------Model built---------\")"
   ]
  },
  {
   "cell_type": "code",
   "execution_count": 7,
   "metadata": {},
   "outputs": [
    {
     "name": "stdout",
     "output_type": "stream",
     "text": [
      "----------Training the model...---------\n",
      "Test loss: 0.553527466166\n",
      "Test accuracy: 0.85085\n"
     ]
    }
   ],
   "source": [
    "print(\"----------Training the model...---------\")\n",
    "# Training the network\n",
    "history = model.fit(x_train, y_train,\n",
    "                    batch_size=batch_size,\n",
    "                    epochs=epochs,\n",
    "                    verbose=0,\n",
    "                    validation_data=(x_test, y_test))\n",
    "\n",
    "# Evaluation of the network\n",
    "score = model.evaluate(x_test, y_test, verbose = 0)\n",
    "print('Test loss:', score[0])\n",
    "print('Test accuracy:', score[1])"
   ]
  },
  {
   "cell_type": "markdown",
   "metadata": {},
   "source": [
    "## Plot the confidence distribution for one rotated image"
   ]
  },
  {
   "cell_type": "code",
   "execution_count": 8,
   "metadata": {},
   "outputs": [
    {
     "name": "stdout",
     "output_type": "stream",
     "text": [
      "----------Assessing uncertainty for rotated example of a data point---------\n"
     ]
    },
    {
     "data": {
      "image/png": "[encoded data removed]",
      "text/plain": [
       "<matplotlib.figure.Figure at 0x7fb9065eaf98>"
      ]
     },
     "metadata": {},
     "output_type": "display_data"
    }
   ],
   "source": [
    "print(\"----------Assessing uncertainty for rotated example of a data point---------\")\n",
    "#DROP_OUT = 0.5\n",
    "# change this to see more or less classes\n",
    "NB_SHOW = 6\n",
    "# select the index for the image sample\n",
    "ix = 15541\n",
    "x_ex = x_test[ix]\n",
    "plot_rotated(x_ex, model , nb_class=10, label2name= label2letter, nb_show = NB_SHOW, drop_out = DROP_OUT)\n",
    "plt.show()"
   ]
  },
  {
   "cell_type": "markdown",
   "metadata": {},
   "source": [
    "## Visualize one image and its confidence prediction "
   ]
  },
  {
   "cell_type": "code",
   "execution_count": 9,
   "metadata": {},
   "outputs": [
    {
     "name": "stdout",
     "output_type": "stream",
     "text": [
      "Network prediction: [[  9.30411652e-15   1.95666576e-14   9.99999642e-01   6.25899004e-14\n",
      "    8.63907204e-08   1.92905525e-10   2.97723403e-07   3.34041906e-15\n",
      "    2.00815101e-10   3.36727196e-12]]\n",
      "Networ label: 2\n",
      "dropout prediction: [ 0.00883723  0.01080263  0.74907991  0.01285011  0.05218973  0.02219186\n",
      "  0.06797385  0.00926891  0.0407686   0.02603716]\n",
      "dropout label: 2\n",
      "real label: 2\n"
     ]
    },
    {
     "data": {
      "image/png": "[encoded data removed]",
      "text/plain": [
       "<matplotlib.figure.Figure at 0x7fb8c46ed400>"
      ]
     },
     "metadata": {},
     "output_type": "display_data"
    },
    {
     "data": {
      "image/png": "[encoded data removed]",
      "text/plain": [
       "<matplotlib.figure.Figure at 0x7fb8c461fb70>"
      ]
     },
     "metadata": {},
     "output_type": "display_data"
    }
   ],
   "source": [
    "# Rough comparison between the classic neural network and the bayesian estimation\n",
    "# change the drop_out rate (by default to 0.5)\n",
    "DROP_OUT = 0.5\n",
    "ix = 8\n",
    "x_ex = x_test[ix]\n",
    "print(\"Network prediction: \" + str(model.predict(x_ex.reshape((1, -1)))))\n",
    "print(\"Networ label: \"+ str(np.argmax(model.predict(x_ex.reshape((1, -1))))))\n",
    "\n",
    "print(\"dropout prediction: \"+ str(dropout_pred(x_ex, model, nb_cl=10, drop_out = DROP_OUT)))\n",
    "print(\"dropout label: \"+ str(dropout_pred(x_ex, model, nb_cl=10, label=True, drop_out = DROP_OUT)))\n",
    "\n",
    "print(\"real label: \" + str(np.argmax(y_test[ix])))\n",
    "\n",
    "x_pl = x_ex.reshape((28,28))\n",
    "plt.imshow(x_pl, cmap = \"gray\")\n",
    "plt.show()\n",
    "\n",
    "classes = np.argsort(model.predict(x_ex.reshape(1,-1))[0])[-3:]\n",
    "S_in, S_out = softmax_in_out(x_ex, model, nb_cl=10, drop_out=DROP_OUT)\n",
    "plot_pred(S_out, classes, legend=True)\n",
    "plt.show()"
   ]
  },
  {
   "cell_type": "code",
   "execution_count": null,
   "metadata": {},
   "outputs": [],
   "source": []
  }
 ],
 "metadata": {
  "kernelspec": {
   "display_name": "Python 3",
   "language": "python",
   "name": "python3"
  },
  "language_info": {
   "codemirror_mode": {
    "name": "ipython",
    "version": 3
   },
   "file_extension": ".py",
   "mimetype": "text/x-python",
   "name": "python",
   "nbconvert_exporter": "python",
   "pygments_lexer": "ipython3",
   "version": "3.5.2"
  }
 },
 "nbformat": 4,
 "nbformat_minor": 2
}
