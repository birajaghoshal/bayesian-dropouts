{
 "cells": [
  {
   "cell_type": "code",
   "execution_count": 1,
   "metadata": {},
   "outputs": [
    {
     "name": "stderr",
     "output_type": "stream",
     "text": [
      "Using TensorFlow backend.\n"
     ]
    }
   ],
   "source": [
    "import keras\n",
    "from keras.models import Sequential\n",
    "from keras.layers import Dense, Activation, Dropout\n",
    "from keras.datasets import mnist\n",
    "from keras.optimizers import RMSprop\n",
    "from keras import regularizers\n",
    "import numpy as np\n",
    "import matplotlib.pyplot as plt\n",
    "\n",
    "from lib_classifNN import *\n",
    "from lib_visu_classif import *\n",
    "\n",
    "from tqdm import tqdm\n",
    "\"\"\"In this file, we create a neural network with one hidden layer and apply it to the not_mnist dataset in order to address the classification problem and computing uncertainty as developped in  Y. Gal and Z. Ghahramani, “Dropout as a Bayesian Approximation: Representing Model Uncertainty in Deep Learning,” Apr. 2016.\n",
    "\"\"\"\n",
    "\n",
    "path = 'data/notmnist_train.npy'"
   ]
  },
  {
   "cell_type": "code",
   "execution_count": 9,
   "metadata": {
    "collapsed": true
   },
   "outputs": [],
   "source": [
    "#loading data\n",
    "data = np.load(path)\n",
    "#dictionnary to swap between numerical label and letter\n",
    "letter2label = dict(zip(['A', 'B', 'C', 'D', 'E', 'F', 'G', 'H', 'I', 'J'], np.arange(10)))\n",
    "label2letter = dict(zip(np.arange(10), ['A', 'B', 'C', 'D', 'E', 'F', 'G', 'H', 'I', 'J']))"
   ]
  },
  {
   "cell_type": "code",
   "execution_count": 3,
   "metadata": {
    "collapsed": true
   },
   "outputs": [],
   "source": [
    "sep = 80000\n",
    "x_train = data.tolist()[\"x_train\"][:sep]\n",
    "x_test = data.tolist()[\"x_train\"][sep:]\n",
    "\n",
    "y_train = data.tolist()[\"y_train\"][:sep]\n",
    "y_test = data.tolist()[\"y_train\"][sep:]\n"
   ]
  },
  {
   "cell_type": "code",
   "execution_count": 4,
   "metadata": {},
   "outputs": [
    {
     "name": "stdout",
     "output_type": "stream",
     "text": [
      "80000 train samples\n",
      "20000 test samples\n",
      "----------Data loaded and preprocessed----------\n"
     ]
    }
   ],
   "source": [
    "x_train = x_train.astype('float32')\n",
    "x_test = x_test.astype('float32')\n",
    "x_train /= 255\n",
    "x_test /= 255\n",
    "print(x_train.shape[0], 'train samples')\n",
    "print(x_test.shape[0], 'test samples')\n",
    "\n",
    "# network parameters\n",
    "batch_size = 128\n",
    "num_classes = 10\n",
    "epochs = 20\n",
    "\n",
    "# dimensions for the NN:\n",
    "# input dimension\n",
    "Q = x_train.shape[1]\n",
    "# hidden layer dimension\n",
    "K = 100\n",
    "# output dimension : classification\n",
    "D = num_classes\n",
    "\n",
    "# dropout rate\n",
    "p = 0.5\n",
    "N = x_train.shape[0]\n",
    "# l2 regularization\n",
    "#prior length scale\n",
    "l = 1e-2\n",
    "# precision parameter, un peu au pif pour l'instant\n",
    "tau = 1e-1\n",
    "\n",
    "lambd = p*l**2/(2*N)\n",
    "\n",
    "# convert class vectors to binary class matrices\n",
    "y_train = keras.utils.to_categorical(y_train, num_classes)\n",
    "y_test = keras.utils.to_categorical(y_test, num_classes)\n",
    "print(\"----------Data loaded and preprocessed----------\")"
   ]
  },
  {
   "cell_type": "code",
   "execution_count": 5,
   "metadata": {},
   "outputs": [
    {
     "name": "stdout",
     "output_type": "stream",
     "text": [
      "_________________________________________________________________\n",
      "Layer (type)                 Output Shape              Param #   \n",
      "=================================================================\n",
      "dense_1 (Dense)              (None, 100)               78500     \n",
      "_________________________________________________________________\n",
      "dropout_1 (Dropout)          (None, 100)               0         \n",
      "_________________________________________________________________\n",
      "dense_2 (Dense)              (None, 10)                1000      \n",
      "_________________________________________________________________\n",
      "dropout_2 (Dropout)          (None, 10)                0         \n",
      "_________________________________________________________________\n",
      "activation_1 (Activation)    (None, 10)                0         \n",
      "=================================================================\n",
      "Total params: 79,500\n",
      "Trainable params: 79,500\n",
      "Non-trainable params: 0\n",
      "_________________________________________________________________\n",
      "----------Model built---------\n"
     ]
    }
   ],
   "source": [
    "# Create the neural network model and train it\n",
    "model = Sequential()\n",
    "model.add(Dense(K, input_shape = (Q, ), activation = 'relu', use_bias= True, kernel_regularizer = regularizers.l2(lambd), bias_regularizer = regularizers.l2(lambd)))\n",
    "model.add(Dropout(p))\n",
    "# softmax layer\n",
    "model.add(Dense(num_classes, use_bias = False, activation = None, kernel_regularizer = regularizers.l2(lambd)))\n",
    "model.add(Dropout(p))\n",
    "model.add(Activation('softmax'))\n",
    "\n",
    "model.summary()\n",
    "model.compile(loss='categorical_crossentropy',\n",
    "              optimizer=RMSprop(),\n",
    "              metrics=['accuracy'])\n",
    "\n",
    "print(\"----------Model built---------\")"
   ]
  },
  {
   "cell_type": "code",
   "execution_count": 6,
   "metadata": {},
   "outputs": [
    {
     "name": "stdout",
     "output_type": "stream",
     "text": [
      "----------Training the model...---------\n",
      "Test loss: 0.556435543489\n",
      "Test accuracy: 0.84975\n"
     ]
    }
   ],
   "source": [
    "print(\"----------Training the model...---------\")\n",
    "# Training the network\n",
    "history = model.fit(x_train, y_train,\n",
    "                    batch_size=batch_size,\n",
    "                    epochs=epochs,\n",
    "                    verbose=0,\n",
    "                    validation_data=(x_test, y_test))\n",
    "\n",
    "# Evaluation of the network\n",
    "score = model.evaluate(x_test, y_test, verbose = 0)\n",
    "print('Test loss:', score[0])\n",
    "print('Test accuracy:', score[1])"
   ]
  },
  {
   "cell_type": "code",
   "execution_count": 8,
   "metadata": {
    "collapsed": true
   },
   "outputs": [],
   "source": [
    "def plot_rotated(x, model, nb_class, S = 'softmax_out', label2name = None):\n",
    "    classes = np.argsort(model.predict(x.reshape(1,-1))[0])[-3:]\n",
    "    nb_rotations = 6 # change this if more or less rotated versions of the image is needed\n",
    "    x_pl = x.reshape((28,28))\n",
    "    x_rotated = [imutils.rotate(x_pl, r) for r in np.linspace(0,180, nb_rotations)]\n",
    "    fig = plt.figure(figsize=(10,10))\n",
    "    gs = gridspec.GridSpec(nb_rotations, nb_rotations)\n",
    "    ax1 = plt.subplot(gs[:,:-1])\n",
    "    for (i, x) in zip((np.arange(nb_rotations)), x_rotated):        \n",
    "        S_in, S_out = softmax_in_out(x.reshape((1,784)), model, nb_cl=nb_class)\n",
    "        # trick to show legend only once \n",
    "        l = False\n",
    "        if i == 0:l = True\n",
    "        if S == 'softmax_out':\n",
    "            plot_pred(S_out, classes, yp = -i, legend=l, label2name = label2name)\n",
    "        elif S == 'softmax_in':\n",
    "            plot_pred(S_in, classes, yp = -i, legend=l, label2name = label2name)\n",
    "    for (i, x) in zip(np.arange(nb_rotations), x_rotated):\n",
    "        plt.subplot(gs[i, -1])\n",
    "        plt.imshow(x, cmap = 'gray')\n",
    "    # remove uninteresting axes\n",
    "    plt.setp([b.get_yticklabels() for b in fig.axes], visible = False)\n",
    "    plt.setp([b.get_xticklabels() for b in fig.axes[1:]], visible = False)\n",
    "    plt.show()\n",
    "    return"
   ]
  },
  {
   "cell_type": "code",
   "execution_count": 13,
   "metadata": {},
   "outputs": [
    {
     "name": "stdout",
     "output_type": "stream",
     "text": [
      "Network prediction: [[  1.63172237e-13   1.22954801e-13   9.99997735e-01   2.51343807e-11\n",
      "    7.06058643e-08   3.75380255e-10   2.17000002e-06   8.94496777e-15\n",
      "    2.62923439e-09   1.97212510e-10]]\n",
      "Networ label: 2\n",
      "dropout prediction: [ 0.00929448  0.01149709  0.74807224  0.01767355  0.05037393  0.02665484\n",
      "  0.08043623  0.00753885  0.02966776  0.01879103]\n",
      "dropout label: 2\n",
      "real label: 2\n"
     ]
    },
    {
     "data": {
      "image/png": "[encoded data removed]",
      "text/plain": [
       "<matplotlib.figure.Figure at 0x7f52ec48b208>"
      ]
     },
     "metadata": {},
     "output_type": "display_data"
    },
    {
     "data": {
      "image/png": "[encoded data removed]",
      "text/plain": [
       "<matplotlib.figure.Figure at 0x7f52ec75fb70>"
      ]
     },
     "metadata": {},
     "output_type": "display_data"
    },
    {
     "name": "stdout",
     "output_type": "stream",
     "text": [
      "----------Assessing uncertainty for rotated example of a data point---------\n"
     ]
    },
    {
     "data": {
      "image/png": "[encoded data removed]",
      "text/plain": [
       "<matplotlib.figure.Figure at 0x7f52ec611f60>"
      ]
     },
     "metadata": {},
     "output_type": "display_data"
    }
   ],
   "source": [
    "# Rough comparison between the classic neural network and the bayesian estimation\n",
    "ix = 8\n",
    "x_ex = x_test[ix]\n",
    "print(\"Network prediction: \" + str(model.predict(x_ex.reshape((1, -1)))))\n",
    "print(\"Networ label: \"+ str(np.argmax(model.predict(x_ex.reshape((1, -1))))))\n",
    "\n",
    "print(\"dropout prediction: \"+ str(dropout_pred(x_ex, model, nb_cl=10)))\n",
    "print(\"dropout label: \"+ str(dropout_pred(x_ex, model, nb_cl=10, label=True)))\n",
    "\n",
    "print(\"real label: \" + str(np.argmax(y_test[ix])))\n",
    "\n",
    "x_pl = x_ex.reshape((28,28))\n",
    "plt.imshow(x_pl, cmap = \"gray\")\n",
    "plt.show()\n",
    "\n",
    "classes = np.argsort(model.predict(x_ex.reshape(1,-1))[0])[-3:]\n",
    "S_in, S_out = softmax_in_out(x_ex, model, nb_cl=10)\n",
    "plot_pred(S_out, classes, legend=True)\n",
    "plt.show()\n",
    "\n",
    "\n",
    "print(\"----------Assessing uncertainty for rotated example of a data point---------\")\n",
    "\n",
    "ix = 15411\n",
    "x_ex = x_test[ix]\n",
    "plot_rotated(x_ex, model , nb_class=10, label2name= label2letter)\n",
    "plt.show()"
   ]
  },
  {
   "cell_type": "code",
   "execution_count": null,
   "metadata": {
    "collapsed": true
   },
   "outputs": [],
   "source": []
  }
 ],
 "metadata": {
  "kernelspec": {
   "display_name": "Python [conda env:hackathon]",
   "language": "python",
   "name": "conda-env-hackathon-py"
  },
  "language_info": {
   "codemirror_mode": {
    "name": "ipython",
    "version": 3
   },
   "file_extension": ".py",
   "mimetype": "text/x-python",
   "name": "python",
   "nbconvert_exporter": "python",
   "pygments_lexer": "ipython3",
   "version": "3.4.5"
  }
 },
 "nbformat": 4,
 "nbformat_minor": 2
}
