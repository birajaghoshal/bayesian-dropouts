{
 "cells": [
  {
   "cell_type": "code",
   "execution_count": 33,
   "metadata": {},
   "outputs": [],
   "source": [
    "import keras\n",
    "from keras.models import Sequential\n",
    "from keras.layers import Dense, Activation, Dropout\n",
    "from keras.datasets import mnist\n",
    "from keras.optimizers import RMSprop\n",
    "from keras import regularizers\n",
    "import numpy as np\n",
    "import matplotlib.pyplot as plt\n",
    "\n",
    "## In this file, we create a neural network with one hidden layer and apply it to the mnist dataset in order to address the classification problem.\n",
    "\n",
    "# loading mnist and split between train and test sets\n",
    "(x_train, y_train), (x_test, y_test) = mnist.load_data()"
   ]
  },
  {
   "cell_type": "code",
   "execution_count": 34,
   "metadata": {},
   "outputs": [
    {
     "name": "stdout",
     "output_type": "stream",
     "text": [
      "(60000, 28, 28) (60000,) (10000, 28, 28)\n",
      "60000 train samples\n",
      "10000 test samples\n"
     ]
    }
   ],
   "source": [
    "print(x_train.shape, y_train.shape, x_test.shape)\n",
    "x_train = x_train.reshape(60000, 784)\n",
    "x_test = x_test.reshape(10000, 784)\n",
    "x_train = x_train.astype('float32')\n",
    "x_test = x_test.astype('float32')\n",
    "x_train /= 255\n",
    "x_test /= 255\n",
    "print(x_train.shape[0], 'train samples')\n",
    "print(x_test.shape[0], 'test samples')\n",
    "\n",
    "\n",
    "# network parameters\n",
    "batch_size = 128\n",
    "num_classes = 10\n",
    "epochs = 20\n",
    "\n",
    "# dimensions for the NN:\n",
    "# input dimension\n",
    "Q = x_train.shape[1]\n",
    "# hidden layer dimension\n",
    "K = 100\n",
    "# output dimension : classification\n",
    "D = num_classes\n",
    "\n",
    "# dropout rate\n",
    "p = 0.5\n",
    "N = x_train.shape[0]\n",
    "# l2 regularization\n",
    "#prior length scale\n",
    "l = 1e-2\n",
    "# precision parameter, un peu au pif pour l'instant\n",
    "tau = 1e-1\n",
    "\n",
    "lambd = p*l**2/(2*N)\n",
    "\n",
    "# convert class vectors to binary class matrices\n",
    "y_train = keras.utils.to_categorical(y_train, num_classes)\n",
    "y_test = keras.utils.to_categorical(y_test, num_classes)\n"
   ]
  },
  {
   "cell_type": "code",
   "execution_count": 35,
   "metadata": {},
   "outputs": [],
   "source": [
    "# create a sequential model\n",
    "model = Sequential()\n",
    "model.add(Dense(K, input_shape = (Q, ), activation = 'relu', use_bias= True, kernel_regularizer = regularizers.l2(lambd),\n",
    "               bias_regularizer = regularizers.l2(lambd)))\n",
    "model.add(Dropout(p))\n",
    "# softmax layer\n",
    "model.add(Dense(num_classes, use_bias = False, activation = None, kernel_regularizer = regularizers.l2(lambd)))\n",
    "model.add(Dropout(p))\n",
    "model.add(Activation('softmax'))"
   ]
  },
  {
   "cell_type": "code",
   "execution_count": 36,
   "metadata": {},
   "outputs": [
    {
     "name": "stdout",
     "output_type": "stream",
     "text": [
      "_________________________________________________________________\n",
      "Layer (type)                 Output Shape              Param #   \n",
      "=================================================================\n",
      "dense_3 (Dense)              (None, 100)               78500     \n",
      "_________________________________________________________________\n",
      "dropout_3 (Dropout)          (None, 100)               0         \n",
      "_________________________________________________________________\n",
      "dense_4 (Dense)              (None, 10)                1000      \n",
      "_________________________________________________________________\n",
      "dropout_4 (Dropout)          (None, 10)                0         \n",
      "_________________________________________________________________\n",
      "activation_2 (Activation)    (None, 10)                0         \n",
      "=================================================================\n",
      "Total params: 79,500\n",
      "Trainable params: 79,500\n",
      "Non-trainable params: 0\n",
      "_________________________________________________________________\n"
     ]
    }
   ],
   "source": [
    "model.summary()\n",
    "model.compile(loss='categorical_crossentropy',\n",
    "              optimizer=RMSprop(),\n",
    "              metrics=['accuracy'])"
   ]
  },
  {
   "cell_type": "code",
   "execution_count": 37,
   "metadata": {},
   "outputs": [],
   "source": [
    "history = model.fit(x_train, y_train,\n",
    "                    batch_size=batch_size,\n",
    "                    epochs=epochs,\n",
    "                    verbose=0,\n",
    "                    validation_data=(x_test, y_test))"
   ]
  },
  {
   "cell_type": "markdown",
   "metadata": {},
   "source": [
    "## Obtaining model uncertainty"
   ]
  },
  {
   "cell_type": "code",
   "execution_count": 47,
   "metadata": {},
   "outputs": [],
   "source": [
    "def sigmoid(x):\n",
    "    return 1/ (1 + np.exp(-x))\n",
    "\n",
    "def softmax(x):\n",
    "    norm = np.sum([np.exp(e) for e in x])\n",
    "    return np.array([np.exp(e)/norm for e in x])\n",
    "\n",
    "def softmax_in_out(x, model, nb_cl, T = 100) :\n",
    "    W1, b, W2 = model.get_weights()\n",
    "    S_in = np.zeros((T, nb_cl))\n",
    "    S_out = np.zeros((T, nb_cl))\n",
    "    \n",
    "    for i in range(T):\n",
    "        z1 = np.diag(np.random.rand(W1.shape[0]) > 0.5)\n",
    "        z2 = np.diag(np.random.rand(W2.shape[0]) > 0.5)\n",
    "        pred = np.dot(sigmoid(np.dot(x, np.dot(z1, W1))), np.dot(z2, W2))\n",
    "        S_in[i] = pred\n",
    "        S_out[i] = softmax(pred)\n",
    "    return S_in, S_out"
   ]
  },
  {
   "cell_type": "code",
   "execution_count": 48,
   "metadata": {},
   "outputs": [
    {
     "data": {
      "image/png": "[encoded data removed]",
      "text/plain": [
       "<matplotlib.figure.Figure at 0x7fc0319c4d30>"
      ]
     },
     "metadata": {},
     "output_type": "display_data"
    }
   ],
   "source": [
    "# launch on an example and plot the example\n",
    "x_ex = x_test[1]\n",
    "S_in, S_out = softmax_in_out(x_ex, model, nb_cl = num_classes)\n",
    "x_pl = x_ex.reshape((28,28))\n",
    "plt.imshow(x_pl, cmap = \"gray\")\n",
    "plt.show()"
   ]
  },
  {
   "cell_type": "code",
   "execution_count": 84,
   "metadata": {},
   "outputs": [
    {
     "data": {
      "image/png": "[encoded data removed]",
      "text/plain": [
       "<matplotlib.figure.Figure at 0x7fc03588ac50>"
      ]
     },
     "metadata": {},
     "output_type": "display_data"
    }
   ],
   "source": [
    "# graphical functions to display the distribution of the predictions\n",
    "\"\"\"\n",
    "input:  A sample of prediction of size Txnum_classes for an image\n",
    "        the classes for which displaying the probabilities\n",
    "output: The plot of the distributions of the predicted probabilities for the desired classes\n",
    "\"\"\"\n",
    "\n",
    "def plot_pred(S, classes):\n",
    "    colors = \n",
    "    plt.figure(figsize= (10, 20))\n",
    "    for c in classes:\n",
    "        plt.scatter(y = S[:,c], x = np.zeros(S.shape[0]), label = c, marker= '_')\n",
    "        plt.scatter(y = np.mean(S[:,c]), x = 0, label = c)\n",
    "    plot = plt.legend()\n",
    "    return plot\n",
    "\n",
    "plot_pred(S_out, [2,3,5])\n",
    "plt.show()"
   ]
  },
  {
   "cell_type": "code",
   "execution_count": 57,
   "metadata": {},
   "outputs": [
    {
     "data": {
      "text/plain": [
       "(array([2, 3, 5]), array([76,  6, 18]))"
      ]
     },
     "execution_count": 57,
     "metadata": {},
     "output_type": "execute_result"
    }
   ],
   "source": [
    "# return the different predicted classes\n",
    "np.unique([np.argmax(e) for e in S_out], return_counts= True)"
   ]
  },
  {
   "cell_type": "code",
   "execution_count": 12,
   "metadata": {},
   "outputs": [
    {
     "name": "stdout",
     "output_type": "stream",
     "text": [
      "Test loss: 0.119989572383\n",
      "Test accuracy: 0.9701\n"
     ]
    }
   ],
   "source": [
    "score = model.evaluate(x_test, y_test, verbose = 0)\n",
    "print('Test loss:', score[0])\n",
    "print('Test accuracy:', score[1])"
   ]
  },
  {
   "cell_type": "code",
   "execution_count": 13,
   "metadata": {},
   "outputs": [
    {
     "data": {
      "text/plain": [
       "array([False, False,  True, False, False, False, False, False, False, False], dtype=bool)"
      ]
     },
     "execution_count": 13,
     "metadata": {},
     "output_type": "execute_result"
    }
   ],
   "source": [
    "# select ones \n",
    "(y_test[1] == 1)"
   ]
  },
  {
   "cell_type": "code",
   "execution_count": null,
   "metadata": {
    "collapsed": true
   },
   "outputs": [],
   "source": []
  },
  {
   "cell_type": "code",
   "execution_count": null,
   "metadata": {
    "collapsed": true
   },
   "outputs": [],
   "source": []
  }
 ],
 "metadata": {
  "kernelspec": {
   "display_name": "Python 3",
   "language": "python",
   "name": "python3"
  },
  "language_info": {
   "codemirror_mode": {
    "name": "ipython",
    "version": 3
   },
   "file_extension": ".py",
   "mimetype": "text/x-python",
   "name": "python",
   "nbconvert_exporter": "python",
   "pygments_lexer": "ipython3",
   "version": "3.5.2"
  }
 },
 "nbformat": 4,
 "nbformat_minor": 2
}
