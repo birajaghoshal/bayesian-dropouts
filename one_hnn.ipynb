{
 "cells": [
  {
   "cell_type": "code",
   "execution_count": 1,
   "metadata": {},
   "outputs": [
    {
     "name": "stderr",
     "output_type": "stream",
     "text": [
      "Using TensorFlow backend.\n"
     ]
    }
   ],
   "source": [
    "import keras\n",
    "from keras.models import Sequential\n",
    "from keras.layers import Dense, Activation, Dropout\n",
    "from keras.datasets import mnist\n",
    "from keras.optimizers import RMSprop\n",
    "from keras import regularizers\n",
    "\n",
    "## In this file, we create a neural network with one hidden layer and apply it to the mnist dataset in order to address the classification problem.\n",
    "\n",
    "# loading mnist and split between train and test sets\n",
    "(x_train, y_train), (x_test, y_test) = mnist.load_data()"
   ]
  },
  {
   "cell_type": "code",
   "execution_count": 6,
   "metadata": {},
   "outputs": [
    {
     "name": "stdout",
     "output_type": "stream",
     "text": [
      "(60000, 784) (60000, 10) (10000, 784)\n",
      "60000 train samples\n",
      "10000 test samples\n"
     ]
    }
   ],
   "source": [
    "print(x_train.shape, y_train.shape, x_test.shape)\n",
    "x_train = x_train.reshape(60000, 784)\n",
    "x_test = x_test.reshape(10000, 784)\n",
    "x_train = x_train.astype('float32')\n",
    "x_test = x_test.astype('float32')\n",
    "x_train /= 255\n",
    "x_test /= 255\n",
    "print(x_train.shape[0], 'train samples')\n",
    "print(x_test.shape[0], 'test samples')\n",
    "\n",
    "# dimensions for the NN:\n",
    "# input dimension\n",
    "Q = x_train.shape[1]\n",
    "# hidden layer dimension\n",
    "K = 100\n",
    "# output dimension \n",
    "D = 512\n",
    "\n",
    "# network parameters\n",
    "batch_size = 128\n",
    "num_classes = 10\n",
    "epochs = 20\n",
    "# dropout rate\n",
    "p = 0.5\n",
    "N = x_train.shape[0]\n",
    "# l2 regularization\n",
    "#prior length scale\n",
    "l = 1e-2\n",
    "# precision parameter, un peu au pif pour l'instant\n",
    "tau = 1e-1\n",
    "\n",
    "lambd = p*l**2/(2*N)\n",
    "\n",
    "# convert class vectors to binary class matrices\n",
    "y_train = keras.utils.to_categorical(y_train, num_classes)\n",
    "y_test = keras.utils.to_categorical(y_test, num_classes)\n"
   ]
  },
  {
   "cell_type": "code",
   "execution_count": 4,
   "metadata": {},
   "outputs": [
    {
     "data": {
      "text/plain": [
       "0.01"
      ]
     },
     "execution_count": 4,
     "metadata": {},
     "output_type": "execute_result"
    }
   ],
   "source": [
    "1e-2"
   ]
  },
  {
   "cell_type": "code",
   "execution_count": null,
   "metadata": {},
   "outputs": [],
   "source": []
  },
  {
   "cell_type": "code",
   "execution_count": null,
   "metadata": {},
   "outputs": [],
   "source": [
    "# create a sequential model\n",
    "model = Sequential()\n",
    "model.add(Dense(K, input_shape = (Q, ), activation = 'relu'), kernelregulizer = )\n",
    "model.add(Dropout(p))\n",
    "# output layer\n",
    "model.add(Dense(D, input_shape = (K, )))\n",
    "model.add(Dropout(p))\n",
    "# softmax layer\n",
    "model.add(Dense(num_classes, activation = 'softmax'))"
   ]
  },
  {
   "cell_type": "code",
   "execution_count": null,
   "metadata": {},
   "outputs": [],
   "source": [
    "model.summary()\n",
    "\n",
    "model.compile(loss='categorical_crossentropy',\n",
    "              optimizer=RMSprop(),\n",
    "              metrics=['accuracy'])"
   ]
  },
  {
   "cell_type": "code",
   "execution_count": 18,
   "metadata": {},
   "outputs": [
    {
     "name": "stdout",
     "output_type": "stream",
     "text": [
      "Train on 60000 samples, validate on 10000 samples\n",
      "Epoch 1/20\n",
      "60000/60000 [==============================] - 15s 251us/step - loss: 0.4855 - acc: 0.8499 - val_loss: 0.1930 - val_acc: 0.9403\n",
      "Epoch 2/20\n",
      "60000/60000 [==============================] - 2s 33us/step - loss: 0.2864 - acc: 0.9150 - val_loss: 0.1590 - val_acc: 0.9540\n",
      "Epoch 3/20\n",
      "60000/60000 [==============================] - 2s 33us/step - loss: 0.2467 - acc: 0.9275 - val_loss: 0.1413 - val_acc: 0.9596\n",
      "Epoch 4/20\n",
      "60000/60000 [==============================] - 2s 35us/step - loss: 0.2293 - acc: 0.9317 - val_loss: 0.1285 - val_acc: 0.9646\n",
      "Epoch 5/20\n",
      "60000/60000 [==============================] - 2s 36us/step - loss: 0.2134 - acc: 0.9382 - val_loss: 0.1164 - val_acc: 0.9653\n",
      "Epoch 6/20\n",
      "60000/60000 [==============================] - 2s 34us/step - loss: 0.2064 - acc: 0.9406 - val_loss: 0.1177 - val_acc: 0.9677\n",
      "Epoch 7/20\n",
      "60000/60000 [==============================] - 2s 33us/step - loss: 0.1942 - acc: 0.9432 - val_loss: 0.1130 - val_acc: 0.9689\n",
      "Epoch 8/20\n",
      "60000/60000 [==============================] - 2s 34us/step - loss: 0.1911 - acc: 0.9450 - val_loss: 0.1178 - val_acc: 0.9678\n",
      "Epoch 9/20\n",
      "60000/60000 [==============================] - 2s 33us/step - loss: 0.1837 - acc: 0.9461 - val_loss: 0.1114 - val_acc: 0.9674\n",
      "Epoch 10/20\n",
      "60000/60000 [==============================] - 2s 32us/step - loss: 0.1797 - acc: 0.9487 - val_loss: 0.1041 - val_acc: 0.9710\n",
      "Epoch 11/20\n",
      "60000/60000 [==============================] - 2s 32us/step - loss: 0.1758 - acc: 0.9488 - val_loss: 0.1011 - val_acc: 0.9730\n",
      "Epoch 12/20\n",
      "60000/60000 [==============================] - 2s 31us/step - loss: 0.1738 - acc: 0.9496 - val_loss: 0.1140 - val_acc: 0.9696\n",
      "Epoch 13/20\n",
      "60000/60000 [==============================] - 2s 32us/step - loss: 0.1759 - acc: 0.9492 - val_loss: 0.1115 - val_acc: 0.9691\n",
      "Epoch 14/20\n",
      "60000/60000 [==============================] - 2s 38us/step - loss: 0.1705 - acc: 0.9519 - val_loss: 0.1001 - val_acc: 0.9741\n",
      "Epoch 15/20\n",
      "60000/60000 [==============================] - 2s 31us/step - loss: 0.1680 - acc: 0.9522 - val_loss: 0.1079 - val_acc: 0.9716\n",
      "Epoch 16/20\n",
      "60000/60000 [==============================] - 2s 33us/step - loss: 0.1652 - acc: 0.9521 - val_loss: 0.1077 - val_acc: 0.9726\n",
      "Epoch 17/20\n",
      "60000/60000 [==============================] - 2s 31us/step - loss: 0.1628 - acc: 0.9541 - val_loss: 0.1023 - val_acc: 0.9733\n",
      "Epoch 18/20\n",
      "60000/60000 [==============================] - 2s 32us/step - loss: 0.1674 - acc: 0.9530 - val_loss: 0.1013 - val_acc: 0.9735\n",
      "Epoch 19/20\n",
      "60000/60000 [==============================] - 2s 32us/step - loss: 0.1621 - acc: 0.9549 - val_loss: 0.1060 - val_acc: 0.9735\n",
      "Epoch 20/20\n",
      "60000/60000 [==============================] - 2s 31us/step - loss: 0.1628 - acc: 0.9540 - val_loss: 0.1124 - val_acc: 0.9718\n",
      "Test loss: 0.112406483799\n",
      "Test accuracy: 0.9718\n"
     ]
    }
   ],
   "source": [
    "history = model.fit(x_train, y_train,\n",
    "                    batch_size=batch_size,\n",
    "                    epochs=epochs,\n",
    "                    verbose=1,\n",
    "                    validation_data=(x_test, y_test))"
   ]
  },
  {
   "cell_type": "markdown",
   "metadata": {},
   "source": [
    "## Obtaining model uncertainty"
   ]
  },
  {
   "cell_type": "code",
   "execution_count": null,
   "metadata": {
    "collapsed": true
   },
   "outputs": [],
   "source": []
  },
  {
   "cell_type": "code",
   "execution_count": 19,
   "metadata": {},
   "outputs": [
    {
     "name": "stdout",
     "output_type": "stream",
     "text": [
      "Test loss: 0.112406483799\n",
      "Test accuracy: 0.9718\n"
     ]
    }
   ],
   "source": [
    "score = model.evaluate(x_test, y_test, verbose=0)\n",
    "print('Test loss:', score[0])\n",
    "print('Test accuracy:', score[1])"
   ]
  }
 ],
 "metadata": {
  "kernelspec": {
   "display_name": "Python 3",
   "language": "python",
   "name": "python3"
  },
  "language_info": {
   "codemirror_mode": {
    "name": "ipython",
    "version": 3
   },
   "file_extension": ".py",
   "mimetype": "text/x-python",
   "name": "python",
   "nbconvert_exporter": "python",
   "pygments_lexer": "ipython3",
   "version": "3.5.2"
  }
 },
 "nbformat": 4,
 "nbformat_minor": 2
}
