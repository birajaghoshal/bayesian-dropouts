{
 "cells": [
  {
   "cell_type": "code",
   "execution_count": 2,
   "metadata": {},
   "outputs": [
    {
     "name": "stderr",
     "output_type": "stream",
     "text": [
      "Using TensorFlow backend.\n"
     ]
    }
   ],
   "source": [
    "import keras\n",
    "from keras.models import Sequential\n",
    "from keras.layers import Dense, Activation, Dropout\n",
    "from keras.datasets import mnist\n",
    "from keras.optimizers import RMSprop\n",
    "from keras import regularizers\n",
    "\n",
    "\n",
    "from lib_classifNN import *\n",
    "from lib_visu_classif import *\n",
    "\n",
    "import numpy as np\n",
    "import matplotlib.cm as cm\n",
    "import matplotlib.pyplot as plt\n",
    "from matplotlib import gridspec\n",
    "import imutils\n",
    "\n",
    "## In this file, we create a neural network with one hidden layer and apply it to the mnist dataset in order to address the classification problem.\n"
   ]
  },
  {
   "cell_type": "code",
   "execution_count": 3,
   "metadata": {},
   "outputs": [
    {
     "name": "stdout",
     "output_type": "stream",
     "text": [
      "(60000, 28, 28) (60000,) (10000, 28, 28)\n",
      "60000 train samples\n",
      "10000 test samples\n"
     ]
    }
   ],
   "source": [
    "# loading mnist and split between train and test sets\n",
    "(x_train, y_train), (x_test, y_test) = mnist.load_data()\n",
    "print(x_train.shape, y_train.shape, x_test.shape)\n",
    "x_train = x_train.reshape(60000, 784)\n",
    "x_test = x_test.reshape(10000, 784)\n",
    "x_train = x_train.astype('float32')\n",
    "x_test = x_test.astype('float32')\n",
    "x_train /= 255\n",
    "x_test /= 255\n",
    "print(x_train.shape[0], 'train samples')\n",
    "print(x_test.shape[0], 'test samples')\n",
    "\n",
    "\n",
    "# network parameters\n",
    "batch_size = 128\n",
    "num_classes = 10\n",
    "epochs = 20\n",
    "\n",
    "# dimensions for the NN:\n",
    "# input dimension\n",
    "Q = x_train.shape[1]\n",
    "# hidden layer dimension\n",
    "K = 100\n",
    "# output dimension : classification\n",
    "D = num_classes\n",
    "\n",
    "# dropout rate\n",
    "DROP_OUT = 0.5\n",
    "N = x_train.shape[0]\n",
    "# l2 regularization\n",
    "#prior length scale\n",
    "l = 1e-2\n",
    "# precision parameter, un peu au pif pour l'instant\n",
    "tau = 1e-1\n",
    "\n",
    "lambd = DROP_OUT*l**2/(2*N)\n",
    "\n",
    "# convert class vectors to binary class matrices\n",
    "y_train = keras.utils.to_categorical(y_train, num_classes)\n",
    "y_test = keras.utils.to_categorical(y_test, num_classes)\n"
   ]
  },
  {
   "cell_type": "markdown",
   "metadata": {},
   "source": [
    "## Create a sequential model with Keras "
   ]
  },
  {
   "cell_type": "code",
   "execution_count": 13,
   "metadata": {},
   "outputs": [],
   "source": [
    "model = Sequential()\n",
    "model.add(Dense(K, input_shape = (Q, ), activation = 'relu', use_bias= True, kernel_regularizer = regularizers.l2(lambd),\n",
    "               bias_regularizer = regularizers.l2(lambd)))\n",
    "model.add(Dropout(DROP_OUT))\n",
    "# softmax layer\n",
    "model.add(Dense(num_classes, use_bias = False, activation = None, kernel_regularizer = regularizers.l2(lambd)))\n",
    "model.add(Dropout(DROP_OUT))\n",
    "model.add(Activation('softmax'))"
   ]
  },
  {
   "cell_type": "code",
   "execution_count": 14,
   "metadata": {},
   "outputs": [
    {
     "name": "stdout",
     "output_type": "stream",
     "text": [
      "_________________________________________________________________\n",
      "Layer (type)                 Output Shape              Param #   \n",
      "=================================================================\n",
      "dense_3 (Dense)              (None, 100)               78500     \n",
      "_________________________________________________________________\n",
      "dropout_2 (Dropout)          (None, 100)               0         \n",
      "_________________________________________________________________\n",
      "dense_4 (Dense)              (None, 10)                1000      \n",
      "_________________________________________________________________\n",
      "dropout_3 (Dropout)          (None, 10)                0         \n",
      "_________________________________________________________________\n",
      "activation_2 (Activation)    (None, 10)                0         \n",
      "=================================================================\n",
      "Total params: 79,500\n",
      "Trainable params: 79,500\n",
      "Non-trainable params: 0\n",
      "_________________________________________________________________\n"
     ]
    }
   ],
   "source": [
    "model.summary()\n",
    "model.compile(loss='categorical_crossentropy',\n",
    "              optimizer=RMSprop(),\n",
    "              metrics=['accuracy'])"
   ]
  },
  {
   "cell_type": "code",
   "execution_count": 15,
   "metadata": {},
   "outputs": [],
   "source": [
    "# Training the network\n",
    "history = model.fit(x_train, y_train,\n",
    "                    batch_size=batch_size,\n",
    "                    epochs=epochs,\n",
    "                    verbose=0,\n",
    "                    validation_data=(x_test, y_test))"
   ]
  },
  {
   "cell_type": "code",
   "execution_count": 7,
   "metadata": {},
   "outputs": [
    {
     "name": "stdout",
     "output_type": "stream",
     "text": [
      "Test loss: 0.111234539793\n",
      "Test accuracy: 0.9733\n"
     ]
    }
   ],
   "source": [
    "# Evaluation of the network\n",
    "score = model.evaluate(x_test, y_test, verbose = 0)\n",
    "print('Test loss:', score[0])\n",
    "print('Test accuracy:', score[1])"
   ]
  },
  {
   "cell_type": "markdown",
   "metadata": {},
   "source": [
    "## Obtaining model uncertainty"
   ]
  },
  {
   "cell_type": "markdown",
   "metadata": {},
   "source": [
    "## Vizualise data points"
   ]
  },
  {
   "cell_type": "code",
   "execution_count": 12,
   "metadata": {
    "scrolled": false
   },
   "outputs": [
    {
     "data": {
      "image/png": "[encoded data removed]",
      "text/plain": [
       "<matplotlib.figure.Figure at 0x7f53c85bffd0>"
      ]
     },
     "metadata": {},
     "output_type": "display_data"
    }
   ],
   "source": [
    "# change that parameter to see more classes on the plot\n",
    "nb_show = 10\n",
    "# index for the image sample\n",
    "ix = 9\n",
    "x_ex = x_test[ix]\n",
    "#plot_pred_img(x_ex, model, nb_class=10)\n",
    "#plt.show()\n",
    "plot_rotated(x_ex, model , nb_class=10, nb_show= nb_show)\n",
    "plt.show()"
   ]
  },
  {
   "cell_type": "markdown",
   "metadata": {},
   "source": [
    "## Plot one example with its classification values"
   ]
  },
  {
   "cell_type": "code",
   "execution_count": 17,
   "metadata": {},
   "outputs": [
    {
     "name": "stdout",
     "output_type": "stream",
     "text": [
      "Network prediction: [[  8.81622886e-10   3.84498900e-12   3.33511374e-09   5.79132964e-09\n",
      "    2.48310812e-08   9.85176206e-01   1.48189655e-02   3.66877405e-12\n",
      "    4.39334417e-06   4.49413534e-07]]\n",
      "Networ label: 5\n",
      "dropout prediction: [ 0.01251055  0.00988531  0.02347066  0.01484859  0.04795705  0.56911766\n",
      "  0.2309404   0.00845579  0.04789826  0.03491573]\n",
      "dropout label: 5\n",
      "real label: 5\n"
     ]
    },
    {
     "data": {
      "image/png": "[encoded data removed]",
      "text/plain": [
       "<matplotlib.figure.Figure at 0x7feb3d4322e8>"
      ]
     },
     "metadata": {},
     "output_type": "display_data"
    },
    {
     "data": {
      "image/png": "[encoded data removed]",
      "text/plain": [
       "<matplotlib.figure.Figure at 0x7feb3d2eaba8>"
      ]
     },
     "metadata": {},
     "output_type": "display_data"
    }
   ],
   "source": [
    "# change the drop_out rate to be more or less close to the classic network prediction\n",
    "DROP_OUT = 0.5\n",
    "\n",
    "ix = 8\n",
    "x_ex = x_test[ix]\n",
    "print(\"Network prediction: \" + str(model.predict(x_ex.reshape((1, -1)))))\n",
    "print(\"Networ label: \"+ str(np.argmax(model.predict(x_ex.reshape((1, -1))))))\n",
    "\n",
    "print(\"dropout prediction: \"+ str(dropout_pred(x_ex, model, nb_cl=10, drop_out=DROP_OUT)))\n",
    "print(\"dropout label: \"+ str(dropout_pred(x_ex, model, nb_cl=10, label=True, drop_out = DROP_OUT)))\n",
    "\n",
    "print(\"real label: \" + str(np.argmax(y_test[ix])))\n",
    "\n",
    "x_pl = x_ex.reshape((28,28))\n",
    "plt.imshow(x_pl, cmap = \"gray\")\n",
    "plt.show()\n",
    "\n",
    "classes = np.argsort(model.predict(x_ex.reshape(1,-1))[0])[-3:]\n",
    "S_in, S_out = softmax_in_out(x_ex, model, nb_cl=10, drop_out= DROP_OUT)\n",
    "plot_pred(S_out, classes, legend=True)\n",
    "plt.show()"
   ]
  },
  {
   "cell_type": "code",
   "execution_count": null,
   "metadata": {},
   "outputs": [],
   "source": []
  },
  {
   "cell_type": "code",
   "execution_count": null,
   "metadata": {},
   "outputs": [],
   "source": []
  }
 ],
 "metadata": {
  "kernelspec": {
   "display_name": "Python 2",
   "language": "python",
   "name": "python2"
  },
  "language_info": {
   "codemirror_mode": {
    "name": "ipython",
    "version": 3
   },
   "file_extension": ".py",
   "mimetype": "text/x-python",
   "name": "python",
   "nbconvert_exporter": "python",
   "pygments_lexer": "ipython3",
   "version": "3.5.2"
  }
 },
 "nbformat": 4,
 "nbformat_minor": 2
}
