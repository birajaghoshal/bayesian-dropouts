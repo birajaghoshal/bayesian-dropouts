{
 "cells": [
  {
   "cell_type": "code",
   "execution_count": 1,
   "metadata": {},
   "outputs": [
    {
     "name": "stderr",
     "output_type": "stream",
     "text": [
      "Using TensorFlow backend.\n"
     ]
    }
   ],
   "source": [
    "import keras\n",
    "from keras.models import Sequential\n",
    "from keras.layers import Dense, Activation, Dropout\n",
    "from keras.datasets import mnist\n",
    "from keras.optimizers import RMSprop\n",
    "from keras import regularizers\n",
    "import numpy as np\n",
    "\n",
    "import matplotlib.cm as cm\n",
    "import matplotlib.pyplot as plt\n",
    "from matplotlib import gridspec\n",
    "import imutils\n",
    "\n",
    "## In this file, we create a neural network with one hidden layer and apply it to the mnist dataset in order to address the classification problem.\n"
   ]
  },
  {
   "cell_type": "code",
   "execution_count": 2,
   "metadata": {},
   "outputs": [
    {
     "name": "stdout",
     "output_type": "stream",
     "text": [
      "(60000, 28, 28) (60000,) (10000, 28, 28)\n",
      "60000 train samples\n",
      "10000 test samples\n"
     ]
    }
   ],
   "source": [
    "\n",
    "# loading mnist and split between train and test sets\n",
    "(x_train, y_train), (x_test, y_test) = mnist.load_data()\n",
    "print(x_train.shape, y_train.shape, x_test.shape)\n",
    "x_train = x_train.reshape(60000, 784)\n",
    "x_test = x_test.reshape(10000, 784)\n",
    "x_train = x_train.astype('float32')\n",
    "x_test = x_test.astype('float32')\n",
    "x_train /= 255\n",
    "x_test /= 255\n",
    "print(x_train.shape[0], 'train samples')\n",
    "print(x_test.shape[0], 'test samples')\n",
    "\n",
    "\n",
    "# network parameters\n",
    "batch_size = 128\n",
    "num_classes = 10\n",
    "epochs = 20\n",
    "\n",
    "# dimensions for the NN:\n",
    "# input dimension\n",
    "Q = x_train.shape[1]\n",
    "# hidden layer dimension\n",
    "K = 100\n",
    "# output dimension : classification\n",
    "D = num_classes\n",
    "\n",
    "# dropout rate\n",
    "p = 0.5\n",
    "N = x_train.shape[0]\n",
    "# l2 regularization\n",
    "#prior length scale\n",
    "l = 1e-2\n",
    "# precision parameter, un peu au pif pour l'instant\n",
    "tau = 1e-1\n",
    "\n",
    "lambd = p*l**2/(2*N)\n",
    "\n",
    "# convert class vectors to binary class matrices\n",
    "y_train = keras.utils.to_categorical(y_train, num_classes)\n",
    "y_test = keras.utils.to_categorical(y_test, num_classes)\n"
   ]
  },
  {
   "cell_type": "markdown",
   "metadata": {},
   "source": [
    "## Create a sequential model with Keras "
   ]
  },
  {
   "cell_type": "code",
   "execution_count": 3,
   "metadata": {},
   "outputs": [],
   "source": [
    "model = Sequential()\n",
    "model.add(Dense(K, input_shape = (Q, ), activation = 'relu', use_bias= True, kernel_regularizer = regularizers.l2(lambd),\n",
    "               bias_regularizer = regularizers.l2(lambd)))\n",
    "model.add(Dropout(p))\n",
    "# softmax layer\n",
    "model.add(Dense(num_classes, use_bias = False, activation = None, kernel_regularizer = regularizers.l2(lambd)))\n",
    "model.add(Dropout(p))\n",
    "model.add(Activation('softmax'))"
   ]
  },
  {
   "cell_type": "code",
   "execution_count": 4,
   "metadata": {},
   "outputs": [
    {
     "name": "stdout",
     "output_type": "stream",
     "text": [
      "_________________________________________________________________\n",
      "Layer (type)                 Output Shape              Param #   \n",
      "=================================================================\n",
      "dense_1 (Dense)              (None, 100)               78500     \n",
      "_________________________________________________________________\n",
      "dropout_1 (Dropout)          (None, 100)               0         \n",
      "_________________________________________________________________\n",
      "dense_2 (Dense)              (None, 10)                1000      \n",
      "_________________________________________________________________\n",
      "dropout_2 (Dropout)          (None, 10)                0         \n",
      "_________________________________________________________________\n",
      "activation_1 (Activation)    (None, 10)                0         \n",
      "=================================================================\n",
      "Total params: 79,500\n",
      "Trainable params: 79,500\n",
      "Non-trainable params: 0\n",
      "_________________________________________________________________\n"
     ]
    }
   ],
   "source": [
    "model.summary()\n",
    "model.compile(loss='categorical_crossentropy',\n",
    "              optimizer=RMSprop(),\n",
    "              metrics=['accuracy'])"
   ]
  },
  {
   "cell_type": "code",
   "execution_count": 5,
   "metadata": {},
   "outputs": [],
   "source": [
    "# Training the network\n",
    "history = model.fit(x_train, y_train,\n",
    "                    batch_size=batch_size,\n",
    "                    epochs=epochs,\n",
    "                    verbose=0,\n",
    "                    validation_data=(x_test, y_test))"
   ]
  },
  {
   "cell_type": "code",
   "execution_count": 6,
   "metadata": {},
   "outputs": [
    {
     "name": "stdout",
     "output_type": "stream",
     "text": [
      "Test loss: 0.122785630941\n",
      "Test accuracy: 0.9692\n"
     ]
    }
   ],
   "source": [
    "# Evaluation of the network\n",
    "score = model.evaluate(x_test, y_test, verbose = 0)\n",
    "print('Test loss:', score[0])\n",
    "print('Test accuracy:', score[1])"
   ]
  },
  {
   "cell_type": "markdown",
   "metadata": {},
   "source": [
    "## Obtaining model uncertainty"
   ]
  },
  {
   "cell_type": "code",
   "execution_count": 7,
   "metadata": {},
   "outputs": [],
   "source": [
    "def my_relu(x):\n",
    "    return x*(x>=0)\n",
    "\n",
    "def sigmoid(x):\n",
    "    return 1/ (1 + np.exp(-x))\n",
    "\n",
    "def softmax(x):\n",
    "    norm = np.sum([np.exp(e) for e in x])\n",
    "    return np.array([np.exp(e)/norm for e in x])\n",
    "\n",
    "def softmax_in_out(x, model, nb_cl, T = 100) :\n",
    "    W1, b, W2 = model.get_weights()\n",
    "    S_in = np.zeros((T, nb_cl))\n",
    "    S_out = np.zeros((T, nb_cl))\n",
    "    \n",
    "    for i in range(T):\n",
    "        z1 = np.diag(np.random.rand(W1.shape[0]) > 0.5)\n",
    "        z2 = np.diag(np.random.rand(W2.shape[0]) > 0.5)\n",
    "        pred = np.dot(my_relu(np.dot(x, np.dot(z1, W1)) + b), np.dot(z2, W2))\n",
    "        S_in[i] = pred\n",
    "        S_out[i] = softmax(pred)\n",
    "    return S_in, S_out\n",
    "\"\"\"\n",
    "\"return the k most predicted classes\"\n",
    "def best_preds(S, k):\n",
    "    preds = np.unique(np.argmax(S_out, axis= 1), return_counts= True)\n",
    "    classes = dict(zip(preds[1], preds[0]))\n",
    "    best_classes = [classes[e] for e in np.sort(preds[1])[-3:]]\n",
    "    return best_classes[::-1]\n",
    "\"\"\"\n",
    "\"return the dropout model prediction\"\n",
    "def dropout_pred(x, model, nb_cl, label = False):\n",
    "    S_out = softmax_in_out(x, model, nb_cl)[1]\n",
    "    pred = np.mean(S_out, axis = 0)\n",
    "    if label == False:\n",
    "        return(pred)\n",
    "    else:\n",
    "        return np.argmax(pred)    "
   ]
  },
  {
   "cell_type": "markdown",
   "metadata": {},
   "source": [
    "## Vizualise data points"
   ]
  },
  {
   "cell_type": "code",
   "execution_count": 35,
   "metadata": {},
   "outputs": [],
   "source": [
    "# graphical functions to display the distribution of the predictions\n",
    "\"\"\"\n",
    "input:  S, a sample of predictions (T forward passes) of size Txnum_classes for an image\n",
    "        classes, the classes for which displaying the probability distributions\n",
    "output: The plot of the distributions of the predicted probabilities for the desired classes\n",
    "\"\"\"\n",
    "\n",
    "def plot_pred(S, classes, yp = 0, legend = False):\n",
    "    mapc = cm.tab10\n",
    "    colors = dict(zip(classes, mapc.colors[:len(classes)]))\n",
    "    #plt.figure(figsize= (8, 2))\n",
    "    for cl in classes:\n",
    "        plt.scatter(x = S[:,cl], y = np.array([1]*S.shape[0])*yp, label = cl, marker= '|', c = colors[cl], linewidth  = 2)\n",
    "    for cl in classes:\n",
    "        plt.scatter(x = np.mean(S[:,cl]), y = yp, c = colors[cl], linewidths= 4)\n",
    "    if legend:plt.legend()\n",
    "    return\n",
    "\n",
    "# Wrapper function for plotting the image and the distribution, not useful anymore, expect\n",
    "def plot_pred_img(x, model, nb_class, S = 'softmax_out', yp = 0):\n",
    "    classes = np.argsort(model.predict(x_ex.reshape(1,-1))[0])[-3:]\n",
    "    S_in, S_out = softmax_in_out(x, model, nb_cl=10)\n",
    "    fig = plt.figure(figsize = (10,2))\n",
    "    gs =gridspec.GridSpec(1,2, width_ratios= [7,1])\n",
    "    a = plt.subplot(gs[0])\n",
    "    if S == 'softmax_out':\n",
    "        plot_pred(S_out, classes, yp, legend = True)\n",
    "    elif S == 'softmax_in':\n",
    "        plot_pred(S_in, classes, yp, legend = True)\n",
    "    b = plt.subplot(gs[1])\n",
    "    x_pl = x.reshape((28,28))\n",
    "    plt.imshow(x_pl, cmap = \"gray\")\n",
    "    #plt.setp([a.get_xticklabels() for a in f.axes[:-1]], visible=False)\n",
    "    plt.setp([b.get_xticklabels(), b.get_yticklabels(), a.get_yticklabels()], visible = False)\n",
    "    return \n",
    "\n",
    "\"\"\"\n",
    "Function to plot an image and its predicted class for several rotations of the image\n",
    "input:  x, the input image\n",
    "        m, the trained network model,\n",
    "        nb_class, the number of prediction classes\n",
    "        S, to plot the output or input of the softmax layer (either 'softmax_in' or 'softmax_out')\n",
    "output: the plot \n",
    "\"\"\"\n",
    "def plot_rotated(x, model, nb_class, S = 'softmax_out'):\n",
    "    classes = np.argsort(model.predict(x_ex.reshape(1,-1))[0])[-3:]\n",
    "    nb_rotations = 6\n",
    "    x_pl = x.reshape((28,28))\n",
    "    x_rotated = [imutils.rotate(x_pl, r) for r in np.linspace(0,180, nb_rotations)]\n",
    "    fig = plt.figure(figsize=(10,10))\n",
    "    gs = gridspec.GridSpec(nb_rotations, nb_rotations)\n",
    "    ax1 = plt.subplot(gs[:,:-1])\n",
    "    for (i, x) in zip((np.arange(nb_rotations)), x_rotated):        \n",
    "        S_in, S_out = softmax_in_out(x.reshape((1,784)), model, nb_cl=nb_class)\n",
    "        # trick to show legend only once \n",
    "        l = False\n",
    "        if i == 0:l = True\n",
    "        if S == 'softmax_out':\n",
    "            plot_pred(S_out, classes, yp = -i, legend=l)\n",
    "        elif S == 'softmax_in':\n",
    "            plot_pred(S_in, classes, yp = -i, legend=l)\n",
    "    for (i, x) in zip(np.arange(nb_rotations), x_rotated):\n",
    "        plt.subplot(gs[i, -1])\n",
    "        plt.imshow(x, cmap = 'gray')\n",
    "    # remove uninteresting axes\n",
    "    plt.setp([b.get_yticklabels() for b in fig.axes], visible = False)\n",
    "    plt.setp([b.get_xticklabels() for b in fig.axes[1:]], visible = False)\n",
    "    plt.show()\n",
    "    return"
   ]
  },
  {
   "cell_type": "code",
   "execution_count": 38,
   "metadata": {
    "scrolled": false
   },
   "outputs": [
    {
     "data": {
      "image/png": "[encoded data removed]",
      "text/plain": [
       "<matplotlib.figure.Figure at 0x7ff631243e48>"
      ]
     },
     "metadata": {},
     "output_type": "display_data"
    }
   ],
   "source": [
    "ix = 9\n",
    "x_ex = x_test[ix]\n",
    "#plot_pred_img(x_ex, model, nb_class=10)\n",
    "#plt.show()\n",
    "plot_rotated(x_ex, model , nb_class=10)\n",
    "plt.show()"
   ]
  },
  {
   "cell_type": "code",
   "execution_count": 39,
   "metadata": {},
   "outputs": [
    {
     "name": "stdout",
     "output_type": "stream",
     "text": [
      "[[  4.41105508e-09   2.93225977e-09   7.75907483e-06   3.56907776e-06\n",
      "    5.55333542e-03   1.44137641e-06   1.30767175e-08   6.10308140e-04\n",
      "    6.68458088e-05   9.93756771e-01]]\n"
     ]
    },
    {
     "data": {
      "image/png": "[encoded data removed]",
      "text/plain": [
       "<matplotlib.figure.Figure at 0x7ff6311b4ac8>"
      ]
     },
     "metadata": {},
     "output_type": "display_data"
    }
   ],
   "source": [
    "print(model.predict(x_ex.reshape(1,-1)))\n",
    "np.argsort(model.predict(x_ex.reshape(1,-1))[0])[-3:]\n",
    "plot_pred_img(x_ex, model, nb_class=10)\n",
    "plt.show()"
   ]
  },
  {
   "cell_type": "code",
   "execution_count": 42,
   "metadata": {},
   "outputs": [
    {
     "name": "stdout",
     "output_type": "stream",
     "text": [
      "Network prediction: [[  3.17478985e-08   7.88784294e-13   7.37325718e-06   3.90826443e-07\n",
      "    8.86856313e-08   8.27450037e-01   1.72530785e-01   4.39732348e-11\n",
      "    6.05364630e-06   5.25901669e-06]]\n",
      "Networ label: 5\n",
      "dropout prediction: [ 0.01987805  0.00384277  0.04417291  0.0227571   0.03676827  0.5508901\n",
      "  0.23979054  0.00746828  0.03967799  0.034754  ]\n",
      "dropout label: 5\n",
      "real label: 5\n"
     ]
    },
    {
     "data": {
      "image/png": "[encoded data removed]",
      "text/plain": [
       "<matplotlib.figure.Figure at 0x7ff63144eb70>"
      ]
     },
     "metadata": {},
     "output_type": "display_data"
    },
    {
     "data": {
      "image/png": "[encoded data removed]",
      "text/plain": [
       "<matplotlib.figure.Figure at 0x7ff63150bcc0>"
      ]
     },
     "metadata": {},
     "output_type": "display_data"
    }
   ],
   "source": [
    "ix = 8\n",
    "x_ex = x_test[ix]\n",
    "print(\"Network prediction: \" + str(model.predict(x_ex.reshape((1, -1)))))\n",
    "print(\"Networ label: \"+ str(np.argmax(model.predict(x_ex.reshape((1, -1))))))\n",
    "\n",
    "print(\"dropout prediction: \"+ str(dropout_pred(x_ex, model, nb_cl=10)))\n",
    "print(\"dropout label: \"+ str(dropout_pred(x_ex, model, nb_cl=10, label=True)))\n",
    "\n",
    "print(\"real label: \" + str(np.argmax(y_test[ix])))\n",
    "\n",
    "x_pl = x_ex.reshape((28,28))\n",
    "plt.imshow(x_pl, cmap = \"gray\")\n",
    "plt.show()\n",
    "\n",
    "classes = np.argsort(model.predict(x_ex.reshape(1,-1))[0])[-3:]\n",
    "S_in, S_out = softmax_in_out(x_ex, model, nb_cl=10)\n",
    "plot_pred(S_out, classes, legend=True)\n",
    "plt.show()"
   ]
  },
  {
   "cell_type": "code",
   "execution_count": null,
   "metadata": {
    "collapsed": true
   },
   "outputs": [],
   "source": []
  },
  {
   "cell_type": "code",
   "execution_count": null,
   "metadata": {
    "collapsed": true
   },
   "outputs": [],
   "source": []
  }
 ],
 "metadata": {
  "kernelspec": {
   "display_name": "Python 2",
   "language": "python",
   "name": "python2"
  },
  "language_info": {
   "codemirror_mode": {
    "name": "ipython",
    "version": 3
   },
   "file_extension": ".py",
   "mimetype": "text/x-python",
   "name": "python",
   "nbconvert_exporter": "python",
   "pygments_lexer": "ipython3",
   "version": "3.5.2"
  }
 },
 "nbformat": 4,
 "nbformat_minor": 2
}
