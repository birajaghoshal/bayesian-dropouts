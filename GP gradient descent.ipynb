{
 "cells": [
  {
   "cell_type": "code",
   "execution_count": 3,
   "metadata": {},
   "outputs": [],
   "source": [
    "import numpy as np\n",
    "import random\n",
    "import sklearn\n",
    "from sklearn.datasets.samples_generator import make_regression \n",
    "import pylab\n",
    "from scipy import stats\n",
    "import matplotlib.pyplot as plt\n",
    "import math\n",
    "from tqdm import tqdm\n",
    "\n",
    "\n",
    "#(x_train, y_train), (x_test, y_test) = mnist.load_data()"
   ]
  },
  {
   "cell_type": "code",
   "execution_count": 4,
   "metadata": {},
   "outputs": [],
   "source": [
    "x = np.random.rand(10, 5)\n",
    "y = np.random.rand(10, 6)"
   ]
  },
  {
   "cell_type": "code",
   "execution_count": 29,
   "metadata": {
    "scrolled": false
   },
   "outputs": [
    {
     "name": "stderr",
     "output_type": "stream",
     "text": [
      "main loop: 100%|██████████| 6000/6000 [00:15<00:00, 382.42it/s]\n"
     ]
    },
    {
     "name": "stdout",
     "output_type": "stream",
     "text": [
      "Max interactions exceeded!\n"
     ]
    },
    {
     "data": {
      "image/png": "[encoded data removed]",
      "text/plain": [
       "<matplotlib.figure.Figure at 0x111cec048>"
      ]
     },
     "metadata": {},
     "output_type": "display_data"
    }
   ],
   "source": [
    "# dimensions for the NN:\n",
    "# input dimension\n",
    "N = x.shape[0] # 10\n",
    "Q = x.shape[1] # 5\n",
    "# hidden layer dimension\n",
    "K = 100\n",
    "# output dimension \n",
    "D = y.shape[1] # 6\n",
    "\n",
    "#1 - p1 : probability of dropping a line of the weight matrix\n",
    "\n",
    "\n",
    "def gradient_descent_dropout(x, y, p1, p2, sigma, tau, ep=0.0001, max_iter=10000):\n",
    "    \n",
    "    res = []\n",
    "    converged = False\n",
    "    iter = 0\n",
    "    N = x.shape[0] # number of samples\n",
    "    Q = x.shape[1]\n",
    "\n",
    "    \n",
    "    # initial weight matrices \n",
    "    M1 = np.random.normal(0., 1.,(Q, K))\n",
    "    M2 = np.random.normal(0., 1., (K, D))                                                                                                              \n",
    "    m = np.random.normal(0., 1., (1,K))\n",
    "    \n",
    "    for _ in tqdm(range(max_iter), desc=\"main loop\"):        \n",
    "        \n",
    "        z1v = np.zeros((Q,N))\n",
    "        z2v = np.zeros((K,N))\n",
    "    \n",
    "        for i in range(N):\n",
    "            z1v[:,i] = np.random.binomial(size=Q, n=1, p= p1)\n",
    "            z2v[:,i] = np.random.binomial(size=K, n=1, p= p2)\n",
    "        \n",
    "        # Objective loss\n",
    "        L_GP_MC = - p1*np.linalg.norm(M1)**2 - p2*np.linalg.norm(M2)**2 - np.linalg.norm(m)**2\n",
    "    \n",
    "    \n",
    "        for i in range(N):\n",
    "            #Bernoulli vectors for dropouts\n",
    "            z1 = np.diag(z1v[:,i])\n",
    "            z2 = np.diag(z2v[:,i])\n",
    "        \n",
    "            # Computing prediction for the x\n",
    "            y_pred = (1/K)**(1/2)*sigma*np.matmul(np.maximum(0,(np.matmul(x[i],np.matmul(z1,M1))+m)),np.matmul(z2,M2))\n",
    "            ynew =  y_pred - y[i] \n",
    "            L_GP_MC -= tau*np.linalg.norm(ynew)**2\n",
    "            \n",
    "        \n",
    "        gradM1 = np.zeros((Q, K))\n",
    "        gradM2 = np.zeros((K, D))\n",
    "        gradm = np.zeros((1,K))\n",
    "            \n",
    "        for j in range(0,K):\n",
    "            ps = np.dot(M2[j], ynew[0])\n",
    "            tmp = 0\n",
    "            for ii in range(0,Q):\n",
    "                tmp += x[i, ii]*z1v[ii,i]*M1[ii,j]\n",
    "            tmp += m[0,j]\n",
    "            \n",
    "            \n",
    "            mm2 = (m[0,j]*z2v[j,i] + np.dot(np.transpose(np.matmul(x[i], z1)), M1[:,j]))\n",
    "            \n",
    "            if(tmp >0):\n",
    "                gradm[0,j] += z2v[j,i]*ps\n",
    "    \n",
    "                for ii in range(0, Q):\n",
    "                    gradM1[ii,j] += x[i, ii]*z1v[ii,i]*z2v[j,i]*ps\n",
    "    \n",
    "                for l in range(0,D):\n",
    "                    gradM2[j,l] += mm2*ynew[0,l]\n",
    "            \n",
    "        \n",
    "        alpha = 0.0001\n",
    "        # update M\n",
    "        M1 -= alpha * gradM1\n",
    "        M2 -= alpha * gradM2\n",
    "        m -= alpha * gradm\n",
    "        \n",
    "        iter += 1  # update iter\n",
    "        \n",
    "        if iter == max_iter:\n",
    "            print ('Max interactions exceeded!')\n",
    "            converged = True\n",
    "        \n",
    "        if converged:\n",
    "            M1_res = M1\n",
    "            M2_res = M2\n",
    "            m_res = m\n",
    "            \n",
    "        res.append(L_GP_MC)\n",
    "            \n",
    "    return res, M1_res, M2_res, m_res\n",
    "\n",
    "\n",
    "pl = gradient_descent_dropout(x, y, 0.8, 0.9, 0.3, 0.4, ep=0.0001, max_iter=6000)\n",
    "plt.plot(pl[0])\n",
    "plt.show()\n"
   ]
  },
  {
   "cell_type": "code",
   "execution_count": 8,
   "metadata": {
    "collapsed": true
   },
   "outputs": [],
   "source": [
    "M1 = np.random.rand(Q, K)\n",
    "M2 = np.random.rand(K, D)                                                                                                              \n",
    "m = np.random.rand(1, K)"
   ]
  },
  {
   "cell_type": "code",
   "execution_count": 11,
   "metadata": {},
   "outputs": [
    {
     "data": {
      "text/plain": [
       "array([[ 0.28216159,  0.        ,  0.        ,  0.27442321,  0.31521905,\n",
       "         0.        ,  0.07582034,  0.        ,  0.05250483,  0.21708291,\n",
       "         0.        ,  0.        ,  0.25696598,  0.        ,  0.08136016,\n",
       "         0.46730071,  0.        ,  0.        ,  0.21282055,  0.        ,\n",
       "         0.        ,  0.        ,  0.        ,  0.        ,  0.26441782,\n",
       "         0.        ,  0.48385793,  0.        ,  0.        ,  0.        ,\n",
       "         0.        ,  0.01252803,  0.02105264,  0.03610232,  0.        ,\n",
       "         0.0309703 ,  0.        ,  0.        ,  0.        ,  0.09964064,\n",
       "         0.29162113,  0.17502626,  0.44948905,  0.28957944,  0.2932908 ,\n",
       "         0.        ,  0.        ,  0.4306819 ,  0.15957203,  0.        ,\n",
       "         0.34381095,  0.2349954 ,  0.        ,  0.09902092,  0.13051189,\n",
       "         0.        ,  0.41816192,  0.        ,  0.        ,  0.15115396,\n",
       "         0.        ,  0.        ,  0.        ,  0.12141963,  0.38720955,\n",
       "         0.        ,  0.        ,  0.49191544,  0.47229007,  0.        ,\n",
       "         0.35509277,  0.        ,  0.        ,  0.11285399,  0.25636755,\n",
       "         0.40306518,  0.        ,  0.        ,  0.23223789,  0.        ,\n",
       "         0.06704187,  0.        ,  0.17940169,  0.        ,  0.        ,\n",
       "         0.38243487,  0.        ,  0.        ,  0.        ,  0.        ,\n",
       "         0.        ,  0.26056125,  0.35026167,  0.13128103,  0.        ,\n",
       "         0.        ,  0.        ,  0.48604187,  0.4133523 ,  0.18283478]])"
      ]
     },
     "execution_count": 11,
     "metadata": {},
     "output_type": "execute_result"
    }
   ],
   "source": []
  },
  {
   "cell_type": "code",
   "execution_count": 13,
   "metadata": {},
   "outputs": [
    {
     "data": {
      "text/plain": [
       "array([ 0.15405313,  0.99436732,  0.63636246,  0.5610975 ,  0.84763507])"
      ]
     },
     "execution_count": 13,
     "metadata": {},
     "output_type": "execute_result"
    }
   ],
   "source": [
    "# x_test\n",
    "\n",
    "x_test = np.random.rand(1, x.shape[1])\n",
    "x_test[0]"
   ]
  },
  {
   "cell_type": "code",
   "execution_count": 21,
   "metadata": {},
   "outputs": [
    {
     "ename": "ValueError",
     "evalue": "shapes (100,6) and (1,100) not aligned: 6 (dim 1) != 1 (dim 0)",
     "output_type": "error",
     "traceback": [
      "\u001b[0;31m---------------------------------------------------------------------------\u001b[0m",
      "\u001b[0;31mValueError\u001b[0m                                Traceback (most recent call last)",
      "\u001b[0;32m<ipython-input-21-5820f8f7ea87>\u001b[0m in \u001b[0;36m<module>\u001b[0;34m()\u001b[0m\n\u001b[1;32m     23\u001b[0m     \u001b[0;32mreturn\u001b[0m \u001b[0mesp\u001b[0m\u001b[0;34m,\u001b[0m \u001b[0mvar\u001b[0m\u001b[0;34m\u001b[0m\u001b[0m\n\u001b[1;32m     24\u001b[0m \u001b[0;34m\u001b[0m\u001b[0m\n\u001b[0;32m---> 25\u001b[0;31m \u001b[0mmm\u001b[0m \u001b[0;34m=\u001b[0m \u001b[0mmoment_generator\u001b[0m\u001b[0;34m(\u001b[0m\u001b[0mpl\u001b[0m\u001b[0;34m[\u001b[0m\u001b[0;36m1\u001b[0m\u001b[0;34m]\u001b[0m\u001b[0;34m,\u001b[0m \u001b[0mpl\u001b[0m\u001b[0;34m[\u001b[0m\u001b[0;36m2\u001b[0m\u001b[0;34m]\u001b[0m\u001b[0;34m,\u001b[0m \u001b[0mpl\u001b[0m\u001b[0;34m[\u001b[0m\u001b[0;36m3\u001b[0m\u001b[0;34m]\u001b[0m\u001b[0;34m,\u001b[0m \u001b[0;36m12\u001b[0m\u001b[0;34m,\u001b[0m \u001b[0mx_test\u001b[0m\u001b[0;34m[\u001b[0m\u001b[0;36m0\u001b[0m\u001b[0;34m]\u001b[0m\u001b[0;34m,\u001b[0m \u001b[0;36m0.1\u001b[0m\u001b[0;34m,\u001b[0m \u001b[0;36m0.9\u001b[0m\u001b[0;34m,\u001b[0m \u001b[0;36m0.8\u001b[0m\u001b[0;34m,\u001b[0m \u001b[0;36m0.1\u001b[0m\u001b[0;34m)\u001b[0m\u001b[0;34m\u001b[0m\u001b[0m\n\u001b[0m\u001b[1;32m     26\u001b[0m \u001b[0;34m\u001b[0m\u001b[0m\n",
      "\u001b[0;32m<ipython-input-21-5820f8f7ea87>\u001b[0m in \u001b[0;36mmoment_generator\u001b[0;34m(M1, M2, m, T, x_star, tau, p1, p2, sigma)\u001b[0m\n\u001b[1;32m     13\u001b[0m         \u001b[0mW2\u001b[0m \u001b[0;34m=\u001b[0m \u001b[0mnp\u001b[0m\u001b[0;34m.\u001b[0m\u001b[0mmatmul\u001b[0m\u001b[0;34m(\u001b[0m\u001b[0mz2\u001b[0m\u001b[0;34m,\u001b[0m \u001b[0mM2\u001b[0m\u001b[0;34m)\u001b[0m\u001b[0;34m\u001b[0m\u001b[0m\n\u001b[1;32m     14\u001b[0m \u001b[0;34m\u001b[0m\u001b[0m\n\u001b[0;32m---> 15\u001b[0;31m         \u001b[0my_star\u001b[0m \u001b[0;34m=\u001b[0m \u001b[0mmath\u001b[0m\u001b[0;34m.\u001b[0m\u001b[0msqrt\u001b[0m\u001b[0;34m(\u001b[0m\u001b[0;36m1\u001b[0m\u001b[0;34m/\u001b[0m\u001b[0mK\u001b[0m\u001b[0;34m)\u001b[0m\u001b[0;34m*\u001b[0m\u001b[0msigma\u001b[0m\u001b[0;34m*\u001b[0m\u001b[0mnp\u001b[0m\u001b[0;34m.\u001b[0m\u001b[0mmatmul\u001b[0m\u001b[0;34m(\u001b[0m\u001b[0mW2\u001b[0m\u001b[0;34m,\u001b[0m\u001b[0;34m(\u001b[0m\u001b[0mnp\u001b[0m\u001b[0;34m.\u001b[0m\u001b[0mmatmul\u001b[0m\u001b[0;34m(\u001b[0m\u001b[0mx_star\u001b[0m\u001b[0;34m,\u001b[0m \u001b[0mW1\u001b[0m\u001b[0;34m)\u001b[0m\u001b[0;34m+\u001b[0m\u001b[0mm\u001b[0m\u001b[0;34m)\u001b[0m\u001b[0;34m)\u001b[0m\u001b[0;34m\u001b[0m\u001b[0m\n\u001b[0m\u001b[1;32m     16\u001b[0m         \u001b[0mres_esp\u001b[0m\u001b[0;34m.\u001b[0m\u001b[0mappend\u001b[0m\u001b[0;34m(\u001b[0m\u001b[0my_star\u001b[0m\u001b[0;34m)\u001b[0m\u001b[0;34m\u001b[0m\u001b[0m\n\u001b[1;32m     17\u001b[0m         \u001b[0mres_var\u001b[0m\u001b[0;34m.\u001b[0m\u001b[0mappend\u001b[0m\u001b[0;34m(\u001b[0m\u001b[0mnp\u001b[0m\u001b[0;34m.\u001b[0m\u001b[0mmatmul\u001b[0m\u001b[0;34m(\u001b[0m\u001b[0mnp\u001b[0m\u001b[0;34m.\u001b[0m\u001b[0mtranspose\u001b[0m\u001b[0;34m(\u001b[0m\u001b[0my_star\u001b[0m\u001b[0;34m)\u001b[0m\u001b[0;34m,\u001b[0m \u001b[0my_star\u001b[0m\u001b[0;34m)\u001b[0m\u001b[0;34m)\u001b[0m\u001b[0;34m\u001b[0m\u001b[0m\n",
      "\u001b[0;31mValueError\u001b[0m: shapes (100,6) and (1,100) not aligned: 6 (dim 1) != 1 (dim 0)"
     ]
    }
   ],
   "source": [
    "# use of M1, M2, m\n",
    "\n",
    "def moment_generator(M1, M2, m, T, x_star, tau, p1, p2, sigma):\n",
    "    res_esp = []\n",
    "    res_var = []\n",
    "    \n",
    "    for i in range(T):\n",
    "        z1 = np.diag(np.random.binomial(size=Q, n=1, p= p1))\n",
    "        z2 = np.diag(np.random.binomial(size=K, n=1, p= p2))\n",
    "        \n",
    "        \n",
    "        W1 = np.matmul(z1, M1)\n",
    "        W2 = np.matmul(z2, M2)\n",
    "        \n",
    "        y_star = math.sqrt(1/K)*sigma*np.matmul(W2,(np.matmul(x_star, W1)+m))\n",
    "        res_esp.append(y_star)\n",
    "        res_var.append(np.matmul(np.transpose(y_star), y_star))\n",
    "    \n",
    "    \n",
    "    esp = (1/T)*sum(res_esp)\n",
    "    var = (1/tau)*np.identity(M2.shape[1])+ (1/T)*sum(res_var)\n",
    "    \n",
    "    return esp, var\n",
    "\n",
    "mm = moment_generator(pl[1], pl[2], pl[3], 12, x_test[0], 0.1, 0.9, 0.8, 0.1)\n",
    "        "
   ]
  },
  {
   "cell_type": "code",
   "execution_count": null,
   "metadata": {
    "collapsed": true
   },
   "outputs": [],
   "source": []
  },
  {
   "cell_type": "code",
   "execution_count": null,
   "metadata": {
    "collapsed": true
   },
   "outputs": [],
   "source": []
  },
  {
   "cell_type": "code",
   "execution_count": null,
   "metadata": {
    "collapsed": true
   },
   "outputs": [],
   "source": []
  },
  {
   "cell_type": "code",
   "execution_count": null,
   "metadata": {
    "collapsed": true
   },
   "outputs": [],
   "source": []
  },
  {
   "cell_type": "code",
   "execution_count": null,
   "metadata": {
    "collapsed": true
   },
   "outputs": [],
   "source": []
  },
  {
   "cell_type": "code",
   "execution_count": null,
   "metadata": {
    "collapsed": true
   },
   "outputs": [],
   "source": []
  },
  {
   "cell_type": "markdown",
   "metadata": {},
   "source": [
    "Draft : "
   ]
  },
  {
   "cell_type": "code",
   "execution_count": 8,
   "metadata": {},
   "outputs": [],
   "source": [
    "M1 = np.random.rand(Q, K)\n",
    "M2 = np.random.rand(K, D)                                                                                                              \n",
    "m = np.random.rand(1, K)\n"
   ]
  },
  {
   "cell_type": "code",
   "execution_count": 12,
   "metadata": {},
   "outputs": [
    {
     "data": {
      "text/plain": [
       "100"
      ]
     },
     "execution_count": 12,
     "metadata": {},
     "output_type": "execute_result"
    }
   ],
   "source": [
    "np.size(M1[2]) # = K donc sort une ligne"
   ]
  },
  {
   "cell_type": "code",
   "execution_count": null,
   "metadata": {
    "collapsed": true
   },
   "outputs": [],
   "source": [
    "np.dot() # scalar product "
   ]
  },
  {
   "cell_type": "code",
   "execution_count": 36,
   "metadata": {
    "collapsed": true
   },
   "outputs": [],
   "source": [
    "gradm = np.zeros((1,K))\n",
    "gradM1 = np.zeros((Q,K))\n",
    "gradM2 = np.zeros((K,D))"
   ]
  },
  {
   "cell_type": "code",
   "execution_count": 55,
   "metadata": {},
   "outputs": [],
   "source": [
    "i = 0\n",
    "p1 = 0.8\n",
    "p2 = 0.9\n",
    "sigma = 0.1\n",
    "\n",
    "z1v = np.random.binomial(size=Q, n=1, p= p1)\n",
    "z2v = np.random.binomial(size=K, n=1, p= p2)\n",
    "z1 = np.diag(z1v)\n",
    "z2 = np.diag(z2v)\n",
    "                       \n",
    "y_pred = (1/K)**(1/2)*sigma*np.matmul((np.matmul(x[i],np.matmul(z1,M1))+m),np.matmul(z2,M2))\n",
    "#print(y_pred)\n",
    "ynew = y[i] - y_pred\n",
    "#print(ynew)\n",
    "\n",
    "for j in range(0,K):\n",
    "    ps = np.dot(M2[j], ynew[0])\n",
    "    mm2 = (m[0,j]*z2v[j] + np.dot(np.transpose(np.matmul(x[i], z1)), M1[:,j]))\n",
    "    \n",
    "    gradm[0,j] += z2v[j]*ps\n",
    "    \n",
    "    for ii in range(0, Q):\n",
    "        gradM1[ii,j] += x[i, ii]*z1v[i]*z2v[j]*ps\n",
    "    \n",
    "    for l in range(0,D):\n",
    "        gradM2[j,l] += mm2*ynew[0,l]\n"
   ]
  },
  {
   "cell_type": "code",
   "execution_count": 51,
   "metadata": {},
   "outputs": [
    {
     "data": {
      "text/plain": [
       "array([ 0.73560931,  0.        ,  0.        ,  0.37148853,  0.35865297])"
      ]
     },
     "execution_count": 51,
     "metadata": {},
     "output_type": "execute_result"
    }
   ],
   "source": [
    "np.transpose(np.matmul(x[i], z1))"
   ]
  },
  {
   "cell_type": "code",
   "execution_count": 58,
   "metadata": {},
   "outputs": [
    {
     "name": "stdout",
     "output_type": "stream",
     "text": [
      "[[ -7.56475890e-01   3.63559857e-01  -9.03673238e-02  -6.93410644e-02\n",
      "   -2.93272041e-02  -6.33156168e-01  -1.46602141e+00  -4.32855856e-02\n",
      "    1.57799124e-01  -2.08107163e+00   3.72519627e-03  -7.67851562e-01\n",
      "   -1.41939852e+00  -7.82117916e-01  -7.42229569e-01  -7.29986366e-01\n",
      "   -1.55713776e+00   2.72199314e-01  -1.48487234e-02  -7.37507608e-01\n",
      "   -1.17113315e-01   1.21092271e-01   5.02082115e-01  -5.65133820e-01\n",
      "   -7.69279666e-01  -3.58151412e-01  -5.29107746e-01  -8.63865702e-01\n",
      "   -6.83336101e-01  -4.19714214e-01  -1.86629858e-01  -6.37367802e-02\n",
      "    2.92032971e-01  -2.11472635e-01  -4.99164964e-01  -1.69256726e+00\n",
      "   -1.11797754e+00   8.83382151e-02  -9.61078514e-01  -1.66536646e+00\n",
      "    2.11990117e-01  -8.01620817e-01  -1.11934735e+00   7.16515973e-01\n",
      "    1.23597797e-01   1.58030886e-01  -5.41527850e-01  -8.41603601e-01\n",
      "   -5.37886555e-01  -4.83538640e-01  -8.53255268e-01   7.07907181e-01\n",
      "   -1.47573243e+00  -9.67952814e-01  -7.75563001e-01  -1.25298983e+00\n",
      "   -2.35583752e-01  -2.11159967e-01   9.43015470e-02   1.85380882e-01\n",
      "   -7.97272604e-01  -1.32686392e-01   7.03869859e-02  -2.87016610e-02\n",
      "   -9.04128559e-01  -1.21976904e+00  -1.25225198e+00  -1.62007511e+00\n",
      "    3.53167318e-02  -1.59522825e+00  -4.93813813e-01  -5.70202480e-04\n",
      "   -5.16819442e-01  -1.09425880e+00  -6.50596196e-01  -6.46074640e-01\n",
      "   -4.11692678e-01  -3.87517382e-01  -1.23028566e+00  -9.11235375e-01\n",
      "   -4.55753541e-01  -1.16236389e+00  -4.41418384e-02  -6.17947622e-01\n",
      "    1.66827280e-02  -4.26489791e-01  -1.26823948e+00  -5.44966042e-01\n",
      "   -3.60627435e-01  -6.68259307e-01  -1.97200545e-01  -3.33981815e-01\n",
      "   -9.95875182e-01   5.10701409e-01  -1.51430952e+00  -1.76654138e+00\n",
      "   -1.82183696e+00  -1.54332980e+00  -7.55724597e-01  -1.17682733e-01]]\n",
      "[[ -3.88137724e-01  -2.65380436e-01  -6.03021721e-01  -6.82088904e-01\n",
      "   -6.05794486e-01  -6.37457796e-01  -1.50850313e+00  -5.25169727e-01\n",
      "   -4.71315962e-01  -1.68924448e+00  -4.49885112e-01  -1.07024903e+00\n",
      "   -1.41471476e+00  -8.71989551e-01  -7.95294878e-01  -9.91195007e-01\n",
      "   -1.14544503e+00  -1.64638579e-01  -3.94292989e-01  -6.41850326e-01\n",
      "   -6.02147262e-01  -3.75679981e-01  -6.73941337e-02  -4.15717698e-01\n",
      "   -1.07632584e+00  -6.48020068e-01  -6.62865321e-01  -1.11033220e+00\n",
      "   -8.90551671e-01  -7.49018470e-01  -3.68580705e-01  -3.35999756e-01\n",
      "   -2.35868852e-01  -6.61825230e-01  -7.45655061e-01  -1.44201531e+00\n",
      "   -1.19826516e+00  -2.04636813e-01  -9.29129586e-01  -1.71823350e+00\n",
      "   -3.79514919e-01  -7.59517133e-01  -1.21780846e+00   1.98640595e-02\n",
      "   -1.58625031e-01  -2.05155266e-01  -6.81949908e-01  -1.09133169e+00\n",
      "   -5.87119468e-01  -6.34430537e-01  -7.82149455e-01  -1.01172106e-01\n",
      "   -1.34769330e+00  -1.00080086e+00  -6.66360403e-01  -1.22386433e+00\n",
      "   -5.59353165e-01  -5.42790772e-01  -3.12256947e-01  -3.39751599e-01\n",
      "   -9.16255980e-01  -6.29367025e-01  -3.73821989e-01  -4.37086495e-01\n",
      "   -1.12433447e+00  -1.26719637e+00  -9.21168211e-01  -1.19174233e+00\n",
      "   -4.42380906e-01  -1.39515986e+00  -6.49999220e-01  -4.54062211e-01\n",
      "   -9.03644414e-01  -8.04946960e-01  -6.93964381e-01  -9.42831960e-01\n",
      "   -5.30016207e-01  -2.85061393e-01  -1.10086291e+00  -6.70313224e-01\n",
      "   -7.74487663e-01  -1.02002776e+00  -4.06506594e-01  -8.56052440e-01\n",
      "   -3.28043663e-01  -6.49360388e-01  -1.25104144e+00  -4.00882093e-01\n",
      "   -6.43740296e-01  -9.86916203e-01  -7.81026197e-01  -4.69652770e-01\n",
      "   -9.06526511e-01  -3.03675284e-01  -1.57622107e+00  -1.44801374e+00\n",
      "   -1.45687214e+00  -1.30766532e+00  -7.88069797e-01  -3.41763797e-01]\n",
      " [ -5.08049024e-01  -3.47367089e-01  -7.89319300e-01  -8.92813505e-01\n",
      "   -7.92948684e-01  -8.34394059e-01  -1.97454020e+00  -6.87415704e-01\n",
      "   -6.16924354e-01  -2.21111980e+00  -5.88872655e-01  -1.40089185e+00\n",
      "   -1.85177686e+00  -1.14138207e+00  -1.04099334e+00  -1.29741487e+00\n",
      "   -1.49931891e+00  -2.15502035e-01  -5.16105897e-01  -8.40143618e-01\n",
      "   -7.88174685e-01  -4.91742585e-01  -8.82148828e-02  -5.44149557e-01\n",
      "   -1.40884603e+00  -8.48219440e-01  -8.67650986e-01  -1.45335832e+00\n",
      "   -1.16567878e+00  -9.80420296e-01  -4.82450057e-01  -4.39803548e-01\n",
      "   -3.08738193e-01  -8.66289570e-01  -9.76017795e-01  -1.88751163e+00\n",
      "   -1.56845729e+00  -2.67857326e-01  -1.21617496e+00  -2.24906470e+00\n",
      "   -4.96762289e-01  -9.94162417e-01  -1.59403830e+00   2.60008637e-02\n",
      "   -2.07630661e-01  -2.68535950e-01  -8.92631567e-01  -1.42848779e+00\n",
      "   -7.68504204e-01  -8.30431558e-01  -1.02378677e+00  -1.32428225e-01\n",
      "   -1.76404978e+00  -1.30998836e+00  -8.72225839e-01  -1.60196508e+00\n",
      "   -7.32159777e-01  -7.10480596e-01  -4.08725633e-01  -4.44714486e-01\n",
      "   -1.19932418e+00  -8.23803725e-01  -4.89310584e-01  -5.72120032e-01\n",
      "   -1.47168645e+00  -1.65868411e+00  -1.20575399e+00  -1.55991930e+00\n",
      "   -5.79050099e-01  -1.82618067e+00  -8.50810032e-01  -5.94340228e-01\n",
      "   -1.18281639e+00  -1.05362734e+00  -9.08357793e-01  -1.23411054e+00\n",
      "   -6.93759457e-01  -3.73128283e-01  -1.44096358e+00  -8.77399845e-01\n",
      "   -1.01375794e+00  -1.33515521e+00  -5.32092774e-01  -1.12052135e+00\n",
      "   -4.29389499e-01  -8.49973838e-01  -1.63753828e+00  -5.24730639e-01\n",
      "   -8.42617474e-01  -1.29181417e+00  -1.02231649e+00  -6.14747334e-01\n",
      "   -1.18658888e+00  -3.97492750e-01  -2.06317894e+00  -1.89536322e+00\n",
      "   -1.90695834e+00  -1.71165555e+00  -1.03153614e+00  -4.47348332e-01]\n",
      " [ -2.77750180e-03  -1.89905437e-03  -4.31520518e-03  -4.88100755e-03\n",
      "   -4.33504701e-03  -4.56162869e-03  -1.07948027e-02  -3.75809867e-03\n",
      "   -3.37272276e-03  -1.20881823e-02  -3.21936425e-03  -7.65866966e-03\n",
      "   -1.01236560e-02  -6.23993083e-03  -5.69110607e-03  -7.09296147e-03\n",
      "   -8.19676996e-03  -1.17814869e-03  -2.82154870e-03  -4.59306151e-03\n",
      "   -4.30894758e-03  -2.68835457e-03  -4.82270381e-04  -2.97486326e-03\n",
      "   -7.70215512e-03  -4.63721199e-03  -4.74344417e-03  -7.94550362e-03\n",
      "   -6.37276080e-03  -5.35995350e-03  -2.63755236e-03  -2.40440408e-03\n",
      "   -1.68787036e-03  -4.73600131e-03  -5.33588504e-03  -1.03190179e-02\n",
      "   -8.57474920e-03  -1.46437484e-03  -6.64882319e-03  -1.22956269e-02\n",
      "   -2.71579727e-03  -5.43508161e-03  -8.71460046e-03   1.42146609e-04\n",
      "   -1.13511592e-03  -1.46808487e-03  -4.88001290e-03  -7.80953651e-03\n",
      "   -4.20140914e-03  -4.53996572e-03  -5.59703782e-03  -7.23984529e-04\n",
      "   -9.64405249e-03  -7.16170069e-03  -4.76845487e-03  -8.75793613e-03\n",
      "   -4.00271432e-03  -3.88419433e-03  -2.23450126e-03  -2.43125216e-03\n",
      "   -6.55670006e-03  -4.50373138e-03  -2.67505884e-03  -3.12777773e-03\n",
      "   -8.04570343e-03  -9.06801884e-03  -6.59185184e-03  -8.52807202e-03\n",
      "   -3.16566438e-03  -9.98372176e-03  -4.65137475e-03  -3.24925544e-03\n",
      "   -6.46645208e-03  -5.76017608e-03  -4.96598810e-03  -6.74687697e-03\n",
      "   -3.79277993e-03  -2.03989070e-03  -7.87774163e-03  -4.79674114e-03\n",
      "   -5.54221027e-03  -7.29928775e-03  -2.90894888e-03  -6.12588535e-03\n",
      "   -2.34747052e-03  -4.64680328e-03  -8.95241467e-03  -2.86870012e-03\n",
      "   -4.60658607e-03  -7.06234248e-03  -5.58899982e-03  -3.36082100e-03\n",
      "   -6.48707627e-03  -2.17309114e-03  -1.12793903e-02  -1.03619425e-02\n",
      "   -1.04253329e-02  -9.35761343e-03  -5.63940361e-03  -2.44565138e-03]\n",
      " [ -1.96012627e-01  -1.34019224e-01  -3.04530749e-01  -3.44460304e-01\n",
      "   -3.05931018e-01  -3.21921240e-01  -7.61806037e-01  -2.65214875e-01\n",
      "   -2.38018297e-01  -8.53081852e-01  -2.27195548e-01  -5.40484244e-01\n",
      "   -7.14442170e-01  -4.40361635e-01  -4.01630218e-01  -5.00561336e-01\n",
      "   -5.78458820e-01  -8.31437874e-02  -1.99121085e-01  -3.24139503e-01\n",
      "   -3.04089141e-01  -1.89721369e-01  -3.40345718e-02  -2.09940733e-01\n",
      "   -5.43553081e-01  -3.27255271e-01  -3.34752242e-01  -5.60726563e-01\n",
      "   -4.49735653e-01  -3.78260265e-01  -1.86136178e-01  -1.69682540e-01\n",
      "   -1.19115640e-01  -3.34226988e-01  -3.76561717e-01  -7.28229160e-01\n",
      "   -6.05133404e-01  -1.03343213e-01  -4.69217806e-01  -8.67721539e-01\n",
      "   -1.91658043e-01  -3.83562173e-01  -6.15002925e-01   1.00315075e-02\n",
      "   -8.01068982e-02  -1.03605036e-01  -3.44390109e-01  -5.51131153e-01\n",
      "   -2.96499986e-01  -3.20392450e-01  -3.94991675e-01  -5.10927156e-02\n",
      "   -6.80595802e-01  -5.05412370e-01  -3.36517286e-01  -6.18061191e-01\n",
      "   -2.82477782e-01  -2.74113642e-01  -1.57692234e-01  -1.71577251e-01\n",
      "   -4.62716533e-01  -3.17835337e-01  -1.88783068e-01  -2.20732145e-01\n",
      "   -5.67797820e-01  -6.39944210e-01  -4.65197249e-01  -6.01839322e-01\n",
      "   -2.23405865e-01  -7.04566791e-01  -3.28254759e-01  -2.29305016e-01\n",
      "   -4.56347592e-01  -4.06504596e-01  -3.50457513e-01  -4.76137614e-01\n",
      "   -2.67662386e-01  -1.43958263e-01  -5.55944494e-01  -3.38513492e-01\n",
      "   -3.91122409e-01  -5.15122103e-01  -2.05289052e-01  -4.32313268e-01\n",
      "   -1.65664650e-01  -3.27932143e-01  -6.31785844e-01  -2.02448635e-01\n",
      "   -3.25093952e-01  -4.98400506e-01  -3.94424421e-01  -2.37178372e-01\n",
      "   -4.57803074e-01  -1.53358426e-01  -7.96004137e-01  -7.31258418e-01\n",
      "   -7.35731980e-01  -6.60381351e-01  -3.97981495e-01  -1.72593427e-01]\n",
      " [ -1.89240059e-01  -1.29388632e-01  -2.94008696e-01  -3.32558616e-01\n",
      "   -2.95360582e-01  -3.10798315e-01  -7.35484347e-01  -2.56051251e-01\n",
      "   -2.29794361e-01  -8.23606427e-01  -2.19345557e-01  -5.21809597e-01\n",
      "   -6.89756981e-01  -4.25146394e-01  -3.87753212e-01  -4.83266093e-01\n",
      "   -5.58472087e-01  -8.02710286e-02  -1.92241114e-01  -3.12939933e-01\n",
      "   -2.93582345e-01  -1.83166174e-01  -3.28586196e-02  -2.02686925e-01\n",
      "   -5.24772400e-01  -3.15948047e-01  -3.23185984e-01  -5.41352510e-01\n",
      "   -4.34196524e-01  -3.65190731e-01  -1.79704857e-01  -1.63819721e-01\n",
      "   -1.14999992e-01  -3.22678878e-01  -3.63550871e-01  -7.03067608e-01\n",
      "   -5.84225018e-01  -9.97725293e-02  -4.53005535e-01  -8.37740288e-01\n",
      "   -1.85035932e-01  -3.70309449e-01  -5.93753531e-01   9.68490193e-03\n",
      "   -7.73390690e-02  -1.00025306e-01  -3.32490847e-01  -5.32088637e-01\n",
      "   -2.86255408e-01  -3.09322348e-01  -3.81344043e-01  -4.93273757e-02\n",
      "   -6.57080063e-01  -4.87949515e-01  -3.24890043e-01  -5.96706128e-01\n",
      "   -2.72717696e-01  -2.64642551e-01  -1.52243699e-01  -1.65648966e-01\n",
      "   -4.46728892e-01  -3.06853587e-01  -1.82260293e-01  -2.13105475e-01\n",
      "   -5.48179443e-01  -6.17833053e-01  -4.49123895e-01  -5.81044753e-01\n",
      "   -2.15686813e-01  -6.80222814e-01  -3.16913000e-01  -2.21382139e-01\n",
      "   -4.40580009e-01  -3.92459173e-01  -3.38348612e-01  -4.59686252e-01\n",
      "   -2.58414197e-01  -1.38984261e-01  -5.36735669e-01  -3.26817276e-01\n",
      "   -3.77608467e-01  -4.97323761e-01  -1.98195967e-01  -4.17376112e-01\n",
      "   -1.59940656e-01  -3.16601532e-01  -6.09956572e-01  -1.95453691e-01\n",
      "   -3.13861405e-01  -4.81179923e-01  -3.80796388e-01  -2.28983457e-01\n",
      "   -4.41985201e-01  -1.48059632e-01  -7.68500844e-01  -7.05992200e-01\n",
      "   -7.10311193e-01  -6.37564056e-01  -3.84230559e-01  -1.66630031e-01]]\n",
      "[[  3.57055931e-01   2.76662061e-02   2.18389155e-01  -5.75375327e-01\n",
      "   -5.47323285e-01  -1.20586919e+00]\n",
      " [  5.92812196e-01   4.35383839e-02   3.61998953e-01  -9.65100624e-01\n",
      "   -9.19938761e-01  -2.02418515e+00]\n",
      " [  6.53435625e-01   4.50684405e-02   3.95922081e-01  -1.06463909e+00\n",
      "   -1.01008105e+00  -2.21577073e+00]\n",
      " [  5.25530228e-01   2.84448748e-02   3.14169033e-01  -8.78080074e-01\n",
      "   -8.33478565e-01  -1.81604549e+00]\n",
      " [  4.63515523e-01   6.47384924e-02   2.98958266e-01  -6.64666588e-01\n",
      "   -6.29727864e-01  -1.43350336e+00]\n",
      " [  6.19914734e-01   1.26638650e-01   4.21240964e-01  -7.73097811e-01\n",
      "   -7.26649766e-01  -1.72721649e+00]\n",
      " [  8.05268001e-01   1.15389285e-01   5.19723081e-01  -1.14045648e+00\n",
      "   -1.07627834e+00  -2.45429659e+00]\n",
      " [  7.52075558e-01   1.53383225e-01   5.09595738e-01  -9.34175707e-01\n",
      "   -8.76453618e-01  -2.08085270e+00]\n",
      " [  1.26332808e+00   1.79062318e-01   8.14245542e-01  -1.79448049e+00\n",
      "   -1.69349259e+00  -3.85817149e+00]\n",
      " [  1.27234699e+00   2.20207573e-01   8.40261305e-01  -1.68821034e+00\n",
      "   -1.58558990e+00  -3.68323061e+00]\n",
      " [  8.57988304e-01   2.69700329e-01   6.35364903e-01  -7.99665165e-01\n",
      "   -7.33152412e-01  -1.94866728e+00]\n",
      " [  8.85334582e-01   1.40966361e-01   5.77631556e-01  -1.20725960e+00\n",
      "   -1.13363636e+00  -2.60956597e+00]\n",
      " [  5.84168826e-01   1.73915181e-01   4.24290004e-01  -5.65453021e-01\n",
      "   -5.21486663e-01  -1.35132826e+00]\n",
      " [  6.01400761e-01   4.23150768e-02   3.65858017e-01  -9.82444076e-01\n",
      "   -9.35332970e-01  -2.05457522e+00]\n",
      " [  5.19545640e-01  -9.07946891e-04   2.96331855e-01  -9.56990911e-01\n",
      "   -9.14913862e-01  -1.95125218e+00]\n",
      " [  5.00485759e-01   1.10456119e-01   3.43134142e-01  -5.95472240e-01\n",
      "   -5.56158976e-01  -1.33774059e+00]\n",
      " [  4.78637180e-01  -6.50412123e-02   2.38517715e-01  -1.06392096e+00\n",
      "   -1.02079210e+00  -2.08727669e+00]\n",
      " [  1.08754926e+00   3.42239021e-01   7.94735657e-01  -9.92034280e-01\n",
      "   -9.18095018e-01  -2.41246609e+00]\n",
      " [  9.65880747e-01   1.54677447e-01   6.32299918e-01  -1.32258595e+00\n",
      "   -1.24724459e+00  -2.87370962e+00]\n",
      " [  3.89237824e-01   1.22029688e-01   2.87860931e-01  -3.61906984e-01\n",
      "   -3.30058188e-01  -8.78079254e-01]\n",
      " [  9.20427016e-01   3.58204736e-02   5.41657749e-01  -1.57242204e+00\n",
      "   -1.49015160e+00  -3.22382115e+00]\n",
      " [  6.49825563e-01   1.48442203e-02   3.77908806e-01  -1.14518876e+00\n",
      "   -1.08971104e+00  -2.34386565e+00]\n",
      " [  8.79607009e-01   2.01104050e-01   6.11671763e-01  -1.03958598e+00\n",
      "   -9.71128991e-01  -2.36121431e+00]\n",
      " [  4.74750910e-01  -4.40836347e-02   2.50250372e-01  -1.00448349e+00\n",
      "   -9.63286138e-01  -2.00158320e+00]\n",
      " [  8.30815360e-01   1.47297157e-01   5.50037134e-01  -1.08987902e+00\n",
      "   -1.02155323e+00  -2.37953808e+00]\n",
      " [  1.21074943e+00   3.04635666e-01   8.51181008e-01  -1.33910778e+00\n",
      "   -1.24951303e+00  -3.08586614e+00]\n",
      " [  8.22016662e-01   9.11052138e-02   5.17658404e-01  -1.24434701e+00\n",
      "   -1.17781746e+00  -2.64075627e+00]\n",
      " [  6.03710888e-01   1.39938914e-01   4.17275255e-01  -6.98144293e-01\n",
      "   -6.50490990e-01  -1.57912380e+00]\n",
      " [  3.36368803e-01   4.93232958e-02   2.16443076e-01  -4.67066700e-01\n",
      "   -4.36573763e-01  -9.96620400e-01]\n",
      " [  5.42375384e-01   5.79432484e-02   3.40364226e-01  -8.28836609e-01\n",
      "   -7.87065340e-01  -1.75975425e+00]\n",
      " [  4.53087475e-01   7.63142965e-02   2.99024883e-01  -6.06816918e-01\n",
      "   -5.66460113e-01  -1.31637987e+00]\n",
      " [  8.80354782e-01   3.70703520e-01   6.91165311e-01  -5.28341828e-01\n",
      "   -4.71784030e-01  -1.49892856e+00]\n",
      " [  7.94096004e-01   7.34932672e-02   4.91757421e-01  -1.24335726e+00\n",
      "   -1.17998520e+00  -2.61862454e+00]\n",
      " [  1.03622730e+00   2.47009659e-01   7.15778315e-01  -1.17347283e+00\n",
      "   -1.09908108e+00  -2.66888761e+00]\n",
      " [  4.52091837e-01  -4.49721370e-02   2.33641370e-01  -9.55792178e-01\n",
      "   -9.14708039e-01  -1.88808817e+00]\n",
      " [  7.61503819e-01   4.95226386e-02   4.59946828e-01  -1.24999200e+00\n",
      "   -1.18667534e+00  -2.59868254e+00]\n",
      " [  9.17790556e-01   1.81464889e-01   6.17735492e-01  -1.15098462e+00\n",
      "   -1.07692566e+00  -2.54496839e+00]\n",
      " [  6.45371203e-01   1.19278790e-01   4.31483128e-01  -8.40665712e-01\n",
      "   -7.92745071e-01  -1.85661376e+00]\n",
      " [  6.07976591e-01   3.84586288e-02   3.66630612e-01  -1.00101553e+00\n",
      "   -9.50372181e-01  -2.07951573e+00]\n",
      " [  8.31979059e-01   2.34062304e-01   5.96986649e-01  -8.44157071e-01\n",
      "   -7.80698065e-01  -1.98659553e+00]\n",
      " [  7.13070716e-01  -1.74105582e-02   3.97345589e-01  -1.35694268e+00\n",
      "   -1.29727840e+00  -2.74241727e+00]\n",
      " [  8.46621766e-01   1.61047553e-01   5.66503283e-01  -1.08012697e+00\n",
      "   -1.01161122e+00  -2.37770023e+00]\n",
      " [  7.01739696e-01   1.63989187e-01   4.86553149e-01  -8.11687735e-01\n",
      "   -7.58813186e-01  -1.84470317e+00]\n",
      " [  9.40311023e-01   3.17110832e-01   6.96746482e-01  -7.92997656e-01\n",
      "   -7.30693019e-01  -1.97576909e+00]\n",
      " [  1.11546703e+00   2.82155708e-01   7.78304532e-01  -1.21413378e+00\n",
      "   -1.13455097e+00  -2.78961265e+00]\n",
      " [  9.98990097e-01   2.51419563e-01   7.01812370e-01  -1.10211752e+00\n",
      "   -1.02660111e+00  -2.53588998e+00]\n",
      " [  9.95451361e-01   1.55928415e-01   6.49980394e-01  -1.37391628e+00\n",
      "   -1.29661281e+00  -2.98104053e+00]\n",
      " [  7.86567764e-01   1.36619070e-01   5.21131029e-01  -1.04919898e+00\n",
      "   -9.90045640e-01  -2.30135643e+00]\n",
      " [  9.56660980e-01   3.03827225e-01   7.10576725e-01  -8.83203018e-01\n",
      "   -8.08152149e-01  -2.15894481e+00]\n",
      " [  9.68320990e-01   1.84973695e-01   6.49047420e-01  -1.23657760e+00\n",
      "   -1.16034774e+00  -2.72899030e+00]\n",
      " [  5.17141006e-01  -2.72699373e-02   2.79979436e-01  -1.02341035e+00\n",
      "   -9.77273845e-01  -2.04579831e+00]\n",
      " [  5.25621106e-01   7.07189740e-02   3.38730976e-01  -7.62197362e-01\n",
      "   -7.19461778e-01  -1.63747366e+00]\n",
      " [  6.55621068e-01   3.36470823e-03   3.75640798e-01  -1.19128734e+00\n",
      "   -1.13631810e+00  -2.42835435e+00]\n",
      " [  4.69489202e-01   5.39014536e-02   2.96741519e-01  -7.07337496e-01\n",
      "   -6.71750246e-01  -1.50835190e+00]\n",
      " [  6.91400144e-01   6.07888153e-02   4.26497235e-01  -1.09191224e+00\n",
      "   -1.03668170e+00  -2.29543125e+00]\n",
      " [  6.93419393e-01   4.59111022e-02   4.19548974e-01  -1.13731509e+00\n",
      "   -1.08057464e+00  -2.36802736e+00]\n",
      " [  8.41852290e-01   2.42179088e-01   6.06834473e-01  -8.38508432e-01\n",
      "   -7.74347130e-01  -1.98413302e+00]\n",
      " [  1.09806602e+00   2.27891867e-01   7.44821191e-01  -1.34624096e+00\n",
      "   -1.25823919e+00  -2.99540551e+00]\n",
      " [  5.68718122e-01   1.92273899e-01   4.26093019e-01  -4.85442065e-01\n",
      "   -4.41959378e-01  -1.21018495e+00]\n",
      " [  1.02420641e+00   1.12909682e-01   6.43684783e-01  -1.55072712e+00\n",
      "   -1.46931249e+00  -3.29000378e+00]\n",
      " [  3.40277356e-01  -3.43673352e-02   1.76251045e-01  -7.24158232e-01\n",
      "   -6.95220370e-01  -1.43606869e+00]\n",
      " [  5.70961131e-01   1.36072406e-01   3.96528560e-01  -6.49154830e-01\n",
      "   -6.04006918e-01  -1.47457636e+00]\n",
      " [  3.60358995e-01   4.39070252e-02   2.25158747e-01  -5.22507548e-01\n",
      "   -4.91609161e-01  -1.09993600e+00]\n",
      " [  1.00758537e+00   1.52827587e-01   6.53742904e-01  -1.39766648e+00\n",
      "   -1.31465937e+00  -3.01232725e+00]\n",
      " [  5.24845895e-01   8.27023824e-02   3.42870924e-01  -7.22555760e-01\n",
      "   -6.81559558e-01  -1.56782819e+00]\n",
      " [  3.79191747e-01  -3.67747790e-02   1.96726573e-01  -8.00216617e-01\n",
      "   -7.66577917e-01  -1.58409062e+00]\n",
      " [  6.24784530e-01  -7.57479104e-02   3.17724165e-01  -1.36992799e+00\n",
      "   -1.31863576e+00  -2.71069050e+00]\n",
      " [  3.17594120e-01  -7.76953430e-03   1.78877210e-01  -6.13325349e-01\n",
      "   -5.91931125e-01  -1.25542405e+00]\n",
      " [  5.64318893e-01  -2.98296425e-02   3.05970053e-01  -1.11935669e+00\n",
      "   -1.07046739e+00  -2.24188296e+00]\n",
      " [  8.81308393e-01   1.88716088e-01   6.02516204e-01  -1.07181911e+00\n",
      "   -1.00638822e+00  -2.40790986e+00]\n",
      " [  6.56169222e-01   1.25359019e-01   4.39666703e-01  -8.37133946e-01\n",
      "   -7.85002451e-01  -1.84622300e+00]\n",
      " [  5.19790865e-01   5.30111160e-02   3.24403646e-01  -7.99354246e-01\n",
      "   -7.57847223e-01  -1.68970077e+00]\n",
      " [  6.79509914e-01  -3.98943322e-04   3.86967702e-01  -1.24439408e+00\n",
      "   -1.18633846e+00  -2.52925228e+00]\n",
      " [  3.36378898e-01   1.71137765e-02   2.00752087e-01  -5.66347877e-01\n",
      "   -5.38466877e-01  -1.17196949e+00]\n",
      " [  5.99343418e-01   1.29743775e-01   4.08736146e-01  -7.21724234e-01\n",
      "   -6.79218633e-01  -1.62278767e+00]\n",
      " [  1.08091267e+00   2.16114186e-01   7.30064469e-01  -1.35484706e+00\n",
      "   -1.27153518e+00  -3.00988333e+00]\n",
      " [  3.38784543e-01   1.65374730e-02   2.01618078e-01  -5.71432526e-01\n",
      "   -5.42721438e-01  -1.17986057e+00]\n",
      " [  5.72084555e-01  -8.75165226e-02   2.81573761e-01  -1.30788523e+00\n",
      "   -1.26088769e+00  -2.57147871e+00]\n",
      " [  8.75015203e-01   2.16609819e-01   6.12525184e-01  -9.74348747e-01\n",
      "   -9.07196452e-01  -2.23270510e+00]\n",
      " [  6.67613083e-01  -1.98102209e-02   3.71324867e-01  -1.28535615e+00\n",
      "   -1.23167747e+00  -2.60181179e+00]\n",
      " [  8.96234985e-01   1.46111223e-01   5.86824816e-01  -1.21366677e+00\n",
      "   -1.14011978e+00  -2.63100459e+00]\n",
      " [  5.48921053e-01   1.02035910e-01   3.66781005e-01  -7.10783170e-01\n",
      "   -6.68472733e-01  -1.56657509e+00]\n",
      " [  9.55291398e-01   1.28049687e-01   6.10784257e-01  -1.37304266e+00\n",
      "   -1.29325246e+00  -2.93232669e+00]\n",
      " [  3.69379824e-01   1.06490023e-02   2.16823592e-01  -6.48692289e-01\n",
      "   -6.19771657e-01  -1.33773728e+00]\n",
      " [  7.40451163e-01   1.48630079e-01   5.01339073e-01  -9.30890468e-01\n",
      "   -8.76595565e-01  -2.07628352e+00]\n",
      " [  8.58566292e-01   9.27639639e-02   5.37611007e-01  -1.30059643e+00\n",
      "   -1.22933820e+00  -2.74843062e+00]\n",
      " [  9.45103704e-01   1.97317179e-01   6.42221215e-01  -1.15794999e+00\n",
      "   -1.08386370e+00  -2.58270806e+00]\n",
      " [  5.97069307e-01   1.37822963e-02   3.48956902e-01  -1.05987288e+00\n",
      "   -1.01386244e+00  -2.18387177e+00]\n",
      " [  4.79231888e-01  -1.82006618e-02   2.63737057e-01  -9.30680975e-01\n",
      "   -8.89860068e-01  -1.87300737e+00]\n",
      " [  5.18941849e-01   6.04734946e-02   3.28164547e-01  -7.77771355e-01\n",
      "   -7.37554838e-01  -1.65731465e+00]\n",
      " [  4.28151566e-01  -1.76507401e-02   2.33815253e-01  -8.30233825e-01\n",
      "   -7.90478336e-01  -1.65970747e+00]\n",
      " [  9.76498325e-01   1.78086394e-01   6.50258723e-01  -1.27231673e+00\n",
      "   -1.19567223e+00  -2.79517494e+00]\n",
      " [  7.88359325e-01   1.32992149e-01   5.19426002e-01  -1.05897627e+00\n",
      "   -9.97090216e-01  -2.30981069e+00]\n",
      " [  3.41723338e-01  -6.09455034e-02   1.62592318e-01  -8.01242264e-01\n",
      "   -7.69747903e-01  -1.55744552e+00]\n",
      " [  1.02602825e+00   1.00282448e-01   6.38029630e-01  -1.59034096e+00\n",
      "   -1.50817696e+00  -3.35540176e+00]\n",
      " [  4.16148547e-01  -1.04420703e-02   2.32043266e-01  -7.93644011e-01\n",
      "   -7.58989846e-01  -1.60493876e+00]\n",
      " [  8.19520383e-01   1.13713222e-01   5.23125177e-01  -1.15265106e+00\n",
      "   -1.07568997e+00  -2.44334299e+00]\n",
      " [  9.38597435e-01   7.21500694e-02   5.73365645e-01  -1.51152407e+00\n",
      "   -1.43570044e+00  -3.16203471e+00]\n",
      " [  1.15940330e+00   3.19040209e-01   8.29236704e-01  -1.20219980e+00\n",
      "   -1.11669922e+00  -2.82196399e+00]\n",
      " [  5.80959886e-01   1.81896960e-01   4.24205039e-01  -5.31457351e-01\n",
      "   -4.89881528e-01  -1.28732468e+00]]\n"
     ]
    }
   ],
   "source": [
    "print(gradm)\n",
    "print(gradM1)\n",
    "print(gradM2)"
   ]
  },
  {
   "cell_type": "code",
   "execution_count": 53,
   "metadata": {},
   "outputs": [
    {
     "data": {
      "text/plain": [
       "-0.00050915793890147403"
      ]
     },
     "execution_count": 53,
     "metadata": {},
     "output_type": "execute_result"
    }
   ],
   "source": [
    "i = 0\n",
    "j = 0\n",
    "ii = 0\n",
    "x[i, ii]*z1v[i]*z2v[j]*ps"
   ]
  },
  {
   "cell_type": "code",
   "execution_count": 97,
   "metadata": {},
   "outputs": [],
   "source": [
    "z1v = np.random.binomial(size=Q, n=1, p= p1)\n",
    "z2v = np.random.binomial(size=K, n=1, p= p2)"
   ]
  },
  {
   "cell_type": "code",
   "execution_count": 96,
   "metadata": {},
   "outputs": [
    {
     "data": {
      "text/plain": [
       "array([9, 8, 9, 9, 9])"
      ]
     },
     "execution_count": 96,
     "metadata": {},
     "output_type": "execute_result"
    }
   ],
   "source": [
    "z1v"
   ]
  },
  {
   "cell_type": "code",
   "execution_count": 99,
   "metadata": {
    "collapsed": true
   },
   "outputs": [],
   "source": [
    "z1v = np.zeros((Q,N))\n",
    "z2v = np.zeros((K,N))"
   ]
  },
  {
   "cell_type": "code",
   "execution_count": 101,
   "metadata": {},
   "outputs": [
    {
     "data": {
      "text/plain": [
       "array([ 0.,  0.,  0.,  0.,  0.,  0.,  0.,  0.,  0.,  0.])"
      ]
     },
     "execution_count": 101,
     "metadata": {},
     "output_type": "execute_result"
    }
   ],
   "source": [
    "z1v[1]"
   ]
  },
  {
   "cell_type": "code",
   "execution_count": 20,
   "metadata": {},
   "outputs": [
    {
     "ename": "NameError",
     "evalue": "name 'reLu' is not defined",
     "output_type": "error",
     "traceback": [
      "\u001b[0;31m---------------------------------------------------------------------------\u001b[0m",
      "\u001b[0;31mNameError\u001b[0m                                 Traceback (most recent call last)",
      "\u001b[0;32m<ipython-input-20-acc2ba69553f>\u001b[0m in \u001b[0;36m<module>\u001b[0;34m()\u001b[0m\n\u001b[1;32m      1\u001b[0m \u001b[0;31m# use of M1, M2, m\u001b[0m\u001b[0;34m\u001b[0m\u001b[0;34m\u001b[0m\u001b[0m\n\u001b[1;32m      2\u001b[0m \u001b[0;34m\u001b[0m\u001b[0m\n\u001b[0;32m----> 3\u001b[0;31m \u001b[0;32mdef\u001b[0m \u001b[0mmoment_generator\u001b[0m\u001b[0;34m(\u001b[0m\u001b[0mM1\u001b[0m\u001b[0;34m,\u001b[0m \u001b[0mM2\u001b[0m\u001b[0;34m,\u001b[0m \u001b[0mm\u001b[0m\u001b[0;34m,\u001b[0m \u001b[0mT\u001b[0m\u001b[0;34m,\u001b[0m \u001b[0mx_star\u001b[0m\u001b[0;34m,\u001b[0m \u001b[0mtau\u001b[0m\u001b[0;34m,\u001b[0m \u001b[0mp1\u001b[0m\u001b[0;34m,\u001b[0m \u001b[0mp2\u001b[0m\u001b[0;34m,\u001b[0m \u001b[0msigma\u001b[0m \u001b[0;34m=\u001b[0m \u001b[0mreLu\u001b[0m\u001b[0;34m)\u001b[0m\u001b[0;34m:\u001b[0m\u001b[0;34m\u001b[0m\u001b[0m\n\u001b[0m\u001b[1;32m      4\u001b[0m     \u001b[0mres_esp\u001b[0m \u001b[0;34m=\u001b[0m \u001b[0mnp\u001b[0m\u001b[0;34m.\u001b[0m\u001b[0mzeros\u001b[0m\u001b[0;34m(\u001b[0m\u001b[0;34m(\u001b[0m\u001b[0;36m1\u001b[0m\u001b[0;34m,\u001b[0m\u001b[0mD\u001b[0m\u001b[0;34m)\u001b[0m\u001b[0;34m)\u001b[0m\u001b[0;34m\u001b[0m\u001b[0m\n\u001b[1;32m      5\u001b[0m     \u001b[0mres_var\u001b[0m \u001b[0;34m=\u001b[0m \u001b[0mnp\u001b[0m\u001b[0;34m.\u001b[0m\u001b[0mzeros\u001b[0m\u001b[0;34m(\u001b[0m\u001b[0;34m(\u001b[0m\u001b[0mD\u001b[0m\u001b[0;34m,\u001b[0m\u001b[0mD\u001b[0m\u001b[0;34m)\u001b[0m\u001b[0;34m)\u001b[0m\u001b[0;34m\u001b[0m\u001b[0m\n",
      "\u001b[0;31mNameError\u001b[0m: name 'reLu' is not defined"
     ]
    }
   ],
   "source": [
    "# use of M1, M2, m\n",
    "\n",
    "def moment_generator(M1, M2, m, T, x_star, tau, p1, p2, sigma = reLu):\n",
    "    res_esp = np.zeros((1,D))\n",
    "    res_var = np.zeros((D,D))\n",
    "    \n",
    "    for i in range(T):\n",
    "        z1 = np.diag(np.random.binomial(size=Q, n=1, p= p1))\n",
    "        z2 = np.diag(np.random.binomial(size=K, n=1, p= p2))\n",
    "        \n",
    "        W1 = np.matmul(z1, M1)\n",
    "        W2 = np.matmul(z2, M2)\n",
    "        rr = np.matmul(x_star,W1)+m\n",
    "        \n",
    "        rrr = reLu(rr)\n",
    "        \n",
    "        y_star = (1/K)**(1/2)*np.matmul(rrr,W2)\n",
    "        res_esp = res_esp + y_star\n",
    "        res_var = res_var + np.matmul(np.transpose(y_star), y_star)\n",
    "    \n",
    "    \n",
    "    res_esp = (1/T)*res_esp\n",
    "    res_var = (1/tau)*np.identity(M2.shape[1])+ (1/T)*res_var\n",
    "    \n",
    "    return res_esp, res_var\n",
    "\n",
    "mm = moment_generator(pl[1], pl[2], pl[3], 12, x_test[0], 0.1, 0.9, 0.8, 0.1)"
   ]
  },
  {
   "cell_type": "code",
   "execution_count": 21,
   "metadata": {},
   "outputs": [
    {
     "data": {
      "text/plain": [
       "<numpy.lib.function_base.vectorize at 0x111d3dbe0>"
      ]
     },
     "execution_count": 21,
     "metadata": {},
     "output_type": "execute_result"
    }
   ],
   "source": [
    "x_test = np.random.rand(1, x.shape[1])\n",
    "\n",
    "def reLu(x):\n",
    "    return x*(x>=0)\n",
    "\n",
    "np.vectorize(reLu)"
   ]
  },
  {
   "cell_type": "code",
   "execution_count": null,
   "metadata": {
    "collapsed": true
   },
   "outputs": [],
   "source": []
  }
 ],
 "metadata": {
  "kernelspec": {
   "display_name": "Python [conda env:hackathon]",
   "language": "python",
   "name": "conda-env-hackathon-py"
  },
  "language_info": {
   "codemirror_mode": {
    "name": "ipython",
    "version": 3
   },
   "file_extension": ".py",
   "mimetype": "text/x-python",
   "name": "python",
   "nbconvert_exporter": "python",
   "pygments_lexer": "ipython3",
   "version": "3.4.5"
  }
 },
 "nbformat": 4,
 "nbformat_minor": 2
}
